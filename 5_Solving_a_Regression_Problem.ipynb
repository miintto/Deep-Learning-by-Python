{
 "cells": [
  {
   "cell_type": "markdown",
   "metadata": {},
   "source": [
    "# Solving a Regression Problem"
   ]
  },
  {
   "cell_type": "code",
   "execution_count": null,
   "metadata": {},
   "outputs": [],
   "source": [
    "import numpy as np\n",
    "import matplotlib.pyplot as plt\n",
    "\n",
    "from sklearn.preprocessing import PolynomialFeatures\n",
    "from sklearn.linear_model import LinearRegression"
   ]
  },
  {
   "cell_type": "markdown",
   "metadata": {},
   "source": [
    "### Data Example (one feature)"
   ]
  },
  {
   "cell_type": "code",
   "execution_count": 3,
   "metadata": {},
   "outputs": [],
   "source": [
    "dat=np.loadtxt(fname = 'regData1.txt', delimiter = ',')"
   ]
  },
  {
   "cell_type": "code",
   "execution_count": 5,
   "metadata": {
    "scrolled": true
   },
   "outputs": [
    {
     "name": "stdout",
     "output_type": "stream",
     "text": [
      "(40, 2)\n",
      "40\n"
     ]
    }
   ],
   "source": [
    "n_sample=dat.shape[0]\n",
    "print(dat.shape)\n",
    "print(n_sample)"
   ]
  },
  {
   "cell_type": "code",
   "execution_count": 11,
   "metadata": {},
   "outputs": [
    {
     "name": "stdout",
     "output_type": "stream",
     "text": [
      "[22 20 25  4 10 15 28 11 18 29 27 35 37  2 39 30 34 16 36  8 13  5 17 14 33\n",
      "  7 32  1 26 12 31 24  6 23 21 19  9 38  3  0]\n"
     ]
    }
   ],
   "source": [
    "np.random.seed(0)\n",
    "rindex=np.random.permutation(n_sample)\n",
    "print(rindex)\n",
    "ncut=int(n_sample/4)"
   ]
  },
  {
   "cell_type": "code",
   "execution_count": 24,
   "metadata": {},
   "outputs": [],
   "source": [
    "X_train=dat[rindex[: -ncut], 0].reshape(-1, 1)\n",
    "Y_train=dat[rindex[: -ncut], 1].reshape(-1, 1)\n",
    "X_test=dat[rindex[-ncut:], 0].reshape(-1, 1)\n",
    "Y_test=dat[rindex[-ncut:], 1].reshape(-1, 1)"
   ]
  },
  {
   "cell_type": "code",
   "execution_count": 18,
   "metadata": {
    "scrolled": false
   },
   "outputs": [
    {
     "data": {
      "image/png": "[encoded data removed]",
      "text/plain": [
       "<Figure size 432x288 with 1 Axes>"
      ]
     },
     "metadata": {},
     "output_type": "display_data"
    }
   ],
   "source": [
    "plt.xlim((0, 1))\n",
    "plt.ylim((-1.5, 1.5))\n",
    "plt.plot(X_train, Y_train, 'bo', label='Train')\n",
    "plt.plot(X_test, Y_test, 'rs', label='Test')\n",
    "plt.title('Train data and Text data')\n",
    "plt.xlabel('x')\n",
    "plt.ylabel('y')\n",
    "_=plt.legend(loc='best')"
   ]
  },
  {
   "cell_type": "markdown",
   "metadata": {},
   "source": [
    "### Linear Regression"
   ]
  },
  {
   "cell_type": "code",
   "execution_count": 21,
   "metadata": {},
   "outputs": [],
   "source": [
    "linReg=LinearRegression()"
   ]
  },
  {
   "cell_type": "code",
   "execution_count": 26,
   "metadata": {},
   "outputs": [
    {
     "name": "stdout",
     "output_type": "stream",
     "text": [
      "[[-1.41535017]]\n"
     ]
    }
   ],
   "source": [
    "linReg.fit(X_train, Y_train)    ### 이때 x, y 변수가 반드시 shape(-1, 1) 형태여야 함 \n",
    "print(linReg.coef_)"
   ]
  },
  {
   "cell_type": "code",
   "execution_count": 29,
   "metadata": {},
   "outputs": [
    {
     "name": "stdout",
     "output_type": "stream",
     "text": [
      "[[-1.41535017]] [[ 0.3527202]]\n"
     ]
    }
   ],
   "source": [
    "xm=np.mean(X_train)\n",
    "ym=np.mean(Y_train)\n",
    "a=linReg.coef_\n",
    "b=ym-a*xm\n",
    "print(a, b)"
   ]
  },
  {
   "cell_type": "code",
   "execution_count": 34,
   "metadata": {},
   "outputs": [
    {
     "name": "stdout",
     "output_type": "stream",
     "text": [
      "0.227489566313\n"
     ]
    }
   ],
   "source": [
    "Y_pred = linReg.predict(X_train)\n",
    "linTrainError = np.mean((Y_pred - Y_train)**2)\n",
    "print(linTrainError)"
   ]
  },
  {
   "cell_type": "code",
   "execution_count": 35,
   "metadata": {},
   "outputs": [
    {
     "name": "stdout",
     "output_type": "stream",
     "text": [
      "0.273265172457\n"
     ]
    }
   ],
   "source": [
    "Y_pred = linReg.predict(X_test)\n",
    "linTestError = np.mean((Y_pred - Y_test)**2)\n",
    "print(linTestError)"
   ]
  },
  {
   "cell_type": "code",
   "execution_count": 36,
   "metadata": {},
   "outputs": [],
   "source": [
    "xval=np.linspace(0, 1, 101).reshape(-1,1)\n",
    "yval=linReg.predict(xval).reshape(-1,1)"
   ]
  },
  {
   "cell_type": "code",
   "execution_count": 38,
   "metadata": {},
   "outputs": [
    {
     "data": {
      "image/png": "[encoded data removed]",
      "text/plain": [
       "<Figure size 432x288 with 1 Axes>"
      ]
     },
     "metadata": {},
     "output_type": "display_data"
    }
   ],
   "source": [
    "plt.xlim((0, 1))\n",
    "plt.ylim((-1.5, 1.5))\n",
    "plt.plot(xval, yval, label='Linear Model')\n",
    "plt.plot(X_train, Y_train, 'bo', label='Train')\n",
    "plt.legend(loc='best')\n",
    "_=plt.title('Digree {} \\n TestErr={:.2e}'.format(1, linTestError))"
   ]
  },
  {
   "cell_type": "markdown",
   "metadata": {},
   "source": [
    "### Quadratic Regression"
   ]
  },
  {
   "cell_type": "code",
   "execution_count": null,
   "metadata": {},
   "outputs": [],
   "source": []
  }
 ],
 "metadata": {
  "kernelspec": {
   "display_name": "Python 3",
   "language": "python",
   "name": "python3"
  },
  "language_info": {
   "codemirror_mode": {
    "name": "ipython",
    "version": 3
   },
   "file_extension": ".py",
   "mimetype": "text/x-python",
   "name": "python",
   "nbconvert_exporter": "python",
   "pygments_lexer": "ipython3",
   "version": "3.6.4"
  }
 },
 "nbformat": 4,
 "nbformat_minor": 2
}
