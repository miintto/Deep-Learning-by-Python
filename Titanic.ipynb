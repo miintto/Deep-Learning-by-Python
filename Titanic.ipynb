{
 "cells": [
  {
   "cell_type": "markdown",
   "metadata": {
    "scrolled": true
   },
   "source": [
    "# 타이타닉"
   ]
  },
  {
   "cell_type": "markdown",
   "metadata": {},
   "source": [
    "### 데이터 숫자로 바꾸기"
   ]
  },
  {
   "cell_type": "code",
   "execution_count": 1,
   "metadata": {},
   "outputs": [],
   "source": [
    "import numpy as np\n",
    "import pandas as pd"
   ]
  },
  {
   "cell_type": "code",
   "execution_count": 2,
   "metadata": {},
   "outputs": [],
   "source": [
    "dat = pd.read_csv(\"train.csv\")   ### 불러오기"
   ]
  },
  {
   "cell_type": "code",
   "execution_count": 3,
   "metadata": {
    "scrolled": false
   },
   "outputs": [
    {
     "data": {
      "text/html": [
       "<div>\n",
       "<table border=\"1\" class=\"dataframe\">\n",
       "  <thead>\n",
       "    <tr style=\"text-align: right;\">\n",
       "      <th></th>\n",
       "      <th>PassengerId</th>\n",
       "      <th>Survived</th>\n",
       "      <th>Pclass</th>\n",
       "      <th>Name</th>\n",
       "      <th>Sex</th>\n",
       "      <th>Age</th>\n",
       "      <th>SibSp</th>\n",
       "      <th>Parch</th>\n",
       "      <th>Ticket</th>\n",
       "      <th>Fare</th>\n",
       "      <th>Cabin</th>\n",
       "      <th>Embarked</th>\n",
       "    </tr>\n",
       "  </thead>\n",
       "  <tbody>\n",
       "    <tr>\n",
       "      <th>0</th>\n",
       "      <td>1</td>\n",
       "      <td>0</td>\n",
       "      <td>3</td>\n",
       "      <td>Braund, Mr. Owen Harris</td>\n",
       "      <td>male</td>\n",
       "      <td>22.0</td>\n",
       "      <td>1</td>\n",
       "      <td>0</td>\n",
       "      <td>A/5 21171</td>\n",
       "      <td>7.2500</td>\n",
       "      <td>NaN</td>\n",
       "      <td>S</td>\n",
       "    </tr>\n",
       "    <tr>\n",
       "      <th>1</th>\n",
       "      <td>2</td>\n",
       "      <td>1</td>\n",
       "      <td>1</td>\n",
       "      <td>Cumings, Mrs. John Bradley (Florence Briggs Th...</td>\n",
       "      <td>female</td>\n",
       "      <td>38.0</td>\n",
       "      <td>1</td>\n",
       "      <td>0</td>\n",
       "      <td>PC 17599</td>\n",
       "      <td>71.2833</td>\n",
       "      <td>C85</td>\n",
       "      <td>C</td>\n",
       "    </tr>\n",
       "    <tr>\n",
       "      <th>2</th>\n",
       "      <td>3</td>\n",
       "      <td>1</td>\n",
       "      <td>3</td>\n",
       "      <td>Heikkinen, Miss. Laina</td>\n",
       "      <td>female</td>\n",
       "      <td>26.0</td>\n",
       "      <td>0</td>\n",
       "      <td>0</td>\n",
       "      <td>STON/O2. 3101282</td>\n",
       "      <td>7.9250</td>\n",
       "      <td>NaN</td>\n",
       "      <td>S</td>\n",
       "    </tr>\n",
       "    <tr>\n",
       "      <th>3</th>\n",
       "      <td>4</td>\n",
       "      <td>1</td>\n",
       "      <td>1</td>\n",
       "      <td>Futrelle, Mrs. Jacques Heath (Lily May Peel)</td>\n",
       "      <td>female</td>\n",
       "      <td>35.0</td>\n",
       "      <td>1</td>\n",
       "      <td>0</td>\n",
       "      <td>113803</td>\n",
       "      <td>53.1000</td>\n",
       "      <td>C123</td>\n",
       "      <td>S</td>\n",
       "    </tr>\n",
       "    <tr>\n",
       "      <th>4</th>\n",
       "      <td>5</td>\n",
       "      <td>0</td>\n",
       "      <td>3</td>\n",
       "      <td>Allen, Mr. William Henry</td>\n",
       "      <td>male</td>\n",
       "      <td>35.0</td>\n",
       "      <td>0</td>\n",
       "      <td>0</td>\n",
       "      <td>373450</td>\n",
       "      <td>8.0500</td>\n",
       "      <td>NaN</td>\n",
       "      <td>S</td>\n",
       "    </tr>\n",
       "  </tbody>\n",
       "</table>\n",
       "</div>"
      ],
      "text/plain": [
       "   PassengerId  Survived  Pclass  \\\n",
       "0            1         0       3   \n",
       "1            2         1       1   \n",
       "2            3         1       3   \n",
       "3            4         1       1   \n",
       "4            5         0       3   \n",
       "\n",
       "                                                Name     Sex   Age  SibSp  \\\n",
       "0                            Braund, Mr. Owen Harris    male  22.0      1   \n",
       "1  Cumings, Mrs. John Bradley (Florence Briggs Th...  female  38.0      1   \n",
       "2                             Heikkinen, Miss. Laina  female  26.0      0   \n",
       "3       Futrelle, Mrs. Jacques Heath (Lily May Peel)  female  35.0      1   \n",
       "4                           Allen, Mr. William Henry    male  35.0      0   \n",
       "\n",
       "   Parch            Ticket     Fare Cabin Embarked  \n",
       "0      0         A/5 21171   7.2500   NaN        S  \n",
       "1      0          PC 17599  71.2833   C85        C  \n",
       "2      0  STON/O2. 3101282   7.9250   NaN        S  \n",
       "3      0            113803  53.1000  C123        S  \n",
       "4      0            373450   8.0500   NaN        S  "
      ]
     },
     "execution_count": 3,
     "metadata": {},
     "output_type": "execute_result"
    }
   ],
   "source": [
    "dat.head()"
   ]
  },
  {
   "cell_type": "code",
   "execution_count": 4,
   "metadata": {},
   "outputs": [],
   "source": [
    "### 이름 저장\n",
    "\n",
    "colnames = dat.columns"
   ]
  },
  {
   "cell_type": "code",
   "execution_count": 5,
   "metadata": {},
   "outputs": [],
   "source": [
    "### Sex 변환, male : 0, female : \n",
    "\n",
    "for i in range(np.shape(dat)[0]):\n",
    "    if(dat.loc[i, 'Sex'] == 'male'):\n",
    "        dat.loc[i, 'Sex'] = 0\n",
    "    elif(dat.loc[i, 'Sex'] == 'female'):\n",
    "        dat.loc[i, 'Sex'] = 1"
   ]
  },
  {
   "cell_type": "code",
   "execution_count": 6,
   "metadata": {},
   "outputs": [],
   "source": [
    "### Embarked 변환, C : 1, Q : 2, S : 3\n",
    "\n",
    "for i in range(np.shape(dat)[0]):\n",
    "    if(dat.loc[i, 'Embarked'] == 'C'):\n",
    "        dat.loc[i, 'Embarked'] = 1\n",
    "    elif(dat.loc[i, 'Embarked'] == 'Q'):\n",
    "        dat.loc[i, 'Embarked'] = 2\n",
    "    elif(dat.loc[i, 'Embarked'] == 'S'):\n",
    "        dat.loc[i, 'Embarked'] = 3"
   ]
  },
  {
   "cell_type": "code",
   "execution_count": 7,
   "metadata": {},
   "outputs": [],
   "source": [
    "### Name 삭제\n",
    "### Ticket 삭제\n",
    "### Cabin 삭제\n",
    "\n",
    "dat = np.array(dat)\n",
    "dat = dat[:, (1, 2, 4, 5, 6, 7, 9, 11)]"
   ]
  },
  {
   "cell_type": "code",
   "execution_count": 8,
   "metadata": {
    "scrolled": false
   },
   "outputs": [
    {
     "data": {
      "text/html": [
       "<div>\n",
       "<table border=\"1\" class=\"dataframe\">\n",
       "  <thead>\n",
       "    <tr style=\"text-align: right;\">\n",
       "      <th></th>\n",
       "      <th>Survived</th>\n",
       "      <th>Pclass</th>\n",
       "      <th>Sex</th>\n",
       "      <th>Age</th>\n",
       "      <th>SibSp</th>\n",
       "      <th>Parch</th>\n",
       "      <th>Fare</th>\n",
       "      <th>Embarked</th>\n",
       "    </tr>\n",
       "  </thead>\n",
       "  <tbody>\n",
       "    <tr>\n",
       "      <th>0</th>\n",
       "      <td>0</td>\n",
       "      <td>3</td>\n",
       "      <td>0</td>\n",
       "      <td>22</td>\n",
       "      <td>1</td>\n",
       "      <td>0</td>\n",
       "      <td>7.25</td>\n",
       "      <td>3</td>\n",
       "    </tr>\n",
       "    <tr>\n",
       "      <th>1</th>\n",
       "      <td>1</td>\n",
       "      <td>1</td>\n",
       "      <td>1</td>\n",
       "      <td>38</td>\n",
       "      <td>1</td>\n",
       "      <td>0</td>\n",
       "      <td>71.2833</td>\n",
       "      <td>1</td>\n",
       "    </tr>\n",
       "    <tr>\n",
       "      <th>2</th>\n",
       "      <td>1</td>\n",
       "      <td>3</td>\n",
       "      <td>1</td>\n",
       "      <td>26</td>\n",
       "      <td>0</td>\n",
       "      <td>0</td>\n",
       "      <td>7.925</td>\n",
       "      <td>3</td>\n",
       "    </tr>\n",
       "    <tr>\n",
       "      <th>3</th>\n",
       "      <td>1</td>\n",
       "      <td>1</td>\n",
       "      <td>1</td>\n",
       "      <td>35</td>\n",
       "      <td>1</td>\n",
       "      <td>0</td>\n",
       "      <td>53.1</td>\n",
       "      <td>3</td>\n",
       "    </tr>\n",
       "    <tr>\n",
       "      <th>4</th>\n",
       "      <td>0</td>\n",
       "      <td>3</td>\n",
       "      <td>0</td>\n",
       "      <td>35</td>\n",
       "      <td>0</td>\n",
       "      <td>0</td>\n",
       "      <td>8.05</td>\n",
       "      <td>3</td>\n",
       "    </tr>\n",
       "    <tr>\n",
       "      <th>5</th>\n",
       "      <td>0</td>\n",
       "      <td>3</td>\n",
       "      <td>0</td>\n",
       "      <td>NaN</td>\n",
       "      <td>0</td>\n",
       "      <td>0</td>\n",
       "      <td>8.4583</td>\n",
       "      <td>2</td>\n",
       "    </tr>\n",
       "    <tr>\n",
       "      <th>6</th>\n",
       "      <td>0</td>\n",
       "      <td>1</td>\n",
       "      <td>0</td>\n",
       "      <td>54</td>\n",
       "      <td>0</td>\n",
       "      <td>0</td>\n",
       "      <td>51.8625</td>\n",
       "      <td>3</td>\n",
       "    </tr>\n",
       "    <tr>\n",
       "      <th>7</th>\n",
       "      <td>0</td>\n",
       "      <td>3</td>\n",
       "      <td>0</td>\n",
       "      <td>2</td>\n",
       "      <td>3</td>\n",
       "      <td>1</td>\n",
       "      <td>21.075</td>\n",
       "      <td>3</td>\n",
       "    </tr>\n",
       "    <tr>\n",
       "      <th>8</th>\n",
       "      <td>1</td>\n",
       "      <td>3</td>\n",
       "      <td>1</td>\n",
       "      <td>27</td>\n",
       "      <td>0</td>\n",
       "      <td>2</td>\n",
       "      <td>11.1333</td>\n",
       "      <td>3</td>\n",
       "    </tr>\n",
       "    <tr>\n",
       "      <th>9</th>\n",
       "      <td>1</td>\n",
       "      <td>2</td>\n",
       "      <td>1</td>\n",
       "      <td>14</td>\n",
       "      <td>1</td>\n",
       "      <td>0</td>\n",
       "      <td>30.0708</td>\n",
       "      <td>1</td>\n",
       "    </tr>\n",
       "  </tbody>\n",
       "</table>\n",
       "</div>"
      ],
      "text/plain": [
       "  Survived Pclass Sex  Age SibSp Parch     Fare Embarked\n",
       "0        0      3   0   22     1     0     7.25        3\n",
       "1        1      1   1   38     1     0  71.2833        1\n",
       "2        1      3   1   26     0     0    7.925        3\n",
       "3        1      1   1   35     1     0     53.1        3\n",
       "4        0      3   0   35     0     0     8.05        3\n",
       "5        0      3   0  NaN     0     0   8.4583        2\n",
       "6        0      1   0   54     0     0  51.8625        3\n",
       "7        0      3   0    2     3     1   21.075        3\n",
       "8        1      3   1   27     0     2  11.1333        3\n",
       "9        1      2   1   14     1     0  30.0708        1"
      ]
     },
     "execution_count": 8,
     "metadata": {},
     "output_type": "execute_result"
    }
   ],
   "source": [
    "### 완ㅋ성ㅋ\n",
    "\n",
    "dat = pd.DataFrame(dat)\n",
    "dat.columns = colnames[(1, 2, 4, 5, 6, 7, 9, 11),]\n",
    "\n",
    "dat[:10]"
   ]
  },
  {
   "cell_type": "code",
   "execution_count": 9,
   "metadata": {},
   "outputs": [],
   "source": [
    "dat.to_csv('train_fix.csv', index = False)"
   ]
  },
  {
   "cell_type": "markdown",
   "metadata": {},
   "source": [
    "### 결측치 제거"
   ]
  },
  {
   "cell_type": "code",
   "execution_count": 10,
   "metadata": {},
   "outputs": [],
   "source": [
    "### Age 결측치 177 개\n",
    "### NaN을 버리자... 712 개만 사용\n",
    "\n",
    "dat = dat.dropna(how='any')"
   ]
  },
  {
   "cell_type": "code",
   "execution_count": 11,
   "metadata": {
    "scrolled": false
   },
   "outputs": [
    {
     "name": "stdout",
     "output_type": "stream",
     "text": [
      "[[3 0 22.0 1 0 7.25 3]\n",
      " [1 1 38.0 1 0 71.2833 1]\n",
      " [3 1 26.0 0 0 7.925 3]\n",
      " [1 1 35.0 1 0 53.1 3]\n",
      " [3 0 35.0 0 0 8.05 3]\n",
      " [1 0 54.0 0 0 51.8625 3]\n",
      " [3 0 2.0 3 1 21.075 3]\n",
      " [3 1 27.0 0 2 11.1333 3]\n",
      " [2 1 14.0 1 0 30.0708 1]\n",
      " [3 1 4.0 1 1 16.7 3]] \n",
      "\n",
      "[[0]\n",
      " [1]\n",
      " [1]\n",
      " [1]\n",
      " [0]\n",
      " [0]\n",
      " [0]\n",
      " [1]\n",
      " [1]\n",
      " [1]]\n"
     ]
    }
   ],
   "source": [
    "X = np.array(dat)\n",
    "\n",
    "Y = X[:,0]\n",
    "X = X[:, 1:8]\n",
    "\n",
    "Y = Y.reshape(-1, 1)\n",
    "##astype(np.float64)\n",
    "\n",
    "print(X[0:10,:], '\\n')\n",
    "print(Y[0:10])"
   ]
  },
  {
   "cell_type": "markdown",
   "metadata": {},
   "source": [
    "### Deep learning"
   ]
  },
  {
   "cell_type": "code",
   "execution_count": 12,
   "metadata": {},
   "outputs": [],
   "source": [
    "import tensorflow as tf"
   ]
  },
  {
   "cell_type": "code",
   "execution_count": 13,
   "metadata": {},
   "outputs": [],
   "source": [
    "hid_1 = 9\n",
    "hid_2 = 4\n",
    "\n",
    "\n",
    "x = tf.placeholder(tf.float32, shape=[None, 7])   ### shape(-1, 2)\n",
    "t = tf.placeholder(tf.float32, shape=[None, 1])\n",
    "\n",
    "\n",
    "w1 = tf.Variable(tf.truncated_normal([7, hid_1]))\n",
    "b1 = tf.Variable(tf.zeros([hid_1]))\n",
    "z1 = tf.nn.sigmoid(tf.matmul(x, w1)+b1)   ### Hidden 1\n",
    "\n",
    "\n",
    "w2 = tf.Variable(tf.truncated_normal([hid_1, hid_2]))\n",
    "b2 = tf.Variable(tf.zeros([hid_2]))\n",
    "z2 = tf.nn.sigmoid(tf.matmul(z1, w2)+b2)   ### Hidden 2\n",
    "\n",
    "\n",
    "w3 = tf.Variable(tf.truncated_normal([hid_2, 1]))\n",
    "b3 = tf.Variable(tf.zeros([1]))\n",
    "y = tf.nn.sigmoid(tf.matmul(z2, w3)+b3)   ### Output"
   ]
  },
  {
   "cell_type": "code",
   "execution_count": 14,
   "metadata": {},
   "outputs": [],
   "source": [
    "cross_ent = -tf.reduce_mean(t*tf.log(y)+(1-t)*tf.log(1-y))   ### Error function 계산\n",
    "\n",
    "lr = 0.1   ### learning rate = 0.1\n",
    "optimizer = tf.train.GradientDescentOptimizer(lr)\n",
    "train_step = optimizer.minimize(cross_ent)"
   ]
  },
  {
   "cell_type": "code",
   "execution_count": 15,
   "metadata": {},
   "outputs": [],
   "source": [
    "correct_pred = tf.equal(tf.to_float(tf.greater(y, 0.5)), t)   ### y와 0.5의 값 비교 ( T, F 반환 )"
   ]
  },
  {
   "cell_type": "code",
   "execution_count": 16,
   "metadata": {},
   "outputs": [],
   "source": [
    "init = tf.global_variables_initializer()   ### initialize 필요\n",
    "sess = tf.Session()\n",
    "sess.run(init)"
   ]
  },
  {
   "cell_type": "markdown",
   "metadata": {},
   "source": [
    "### 10000번 반복수행"
   ]
  },
  {
   "cell_type": "code",
   "execution_count": 17,
   "metadata": {},
   "outputs": [
    {
     "name": "stdout",
     "output_type": "stream",
     "text": [
      "epoch = 0\n",
      "epoch = 1000\n",
      "epoch = 2000\n",
      "epoch = 3000\n",
      "epoch = 4000\n",
      "epoch = 5000\n",
      "epoch = 6000\n",
      "epoch = 7000\n",
      "epoch = 8000\n",
      "epoch = 9000\n"
     ]
    }
   ],
   "source": [
    "for epoch in range(10000):   ### 10000번 계산한다.\n",
    "    sess.run(train_step, feed_dict={x:X, t:Y})\n",
    "    if epoch % 1000 == 0:   ### 이건 그냥 잘 돌아가는지 판단하려고...\n",
    "        print(\"epoch =\", epoch)"
   ]
  },
  {
   "cell_type": "code",
   "execution_count": 18,
   "metadata": {},
   "outputs": [
    {
     "name": "stdout",
     "output_type": "stream",
     "text": [
      "True : 526\n",
      "False : 186\n"
     ]
    }
   ],
   "source": [
    "classified = correct_pred.eval(session=sess, feed_dict={x:X, t:Y})   ### 제대로 분류되는지 판단\n",
    "\n",
    "print('True :', np.size(classified[classified==True]))\n",
    "print('False :',np.size( classified[classified==False]))"
   ]
  },
  {
   "cell_type": "code",
   "execution_count": 19,
   "metadata": {},
   "outputs": [
    {
     "name": "stdout",
     "output_type": "stream",
     "text": [
      "[[ 0.10784346]\n",
      " [ 0.4778609 ]\n",
      " [ 0.36739242]\n",
      " [ 0.47234526]\n",
      " [ 0.10942736]\n",
      " [ 0.4718698 ]\n",
      " [ 0.29307482]\n",
      " [ 0.15082341]\n",
      " [ 0.55259395]\n",
      " [ 0.91813242]]\n"
     ]
    }
   ],
   "source": [
    "prob = y.eval(session=sess, feed_dict={x:X})\n",
    "print(prob[0:10])"
   ]
  },
  {
   "cell_type": "code",
   "execution_count": 20,
   "metadata": {},
   "outputs": [
    {
     "name": "stdout",
     "output_type": "stream",
     "text": [
      "[[ -2.20444393e+00  -6.93261623e-01   7.39510655e-02   8.51382613e-01\n",
      "    1.05875289e+00   1.36651850e+00   3.31099510e-01  -1.21108606e-01\n",
      "    1.73991835e+00]\n",
      " [  2.80683565e+00  -5.48198581e-01   2.53320575e-01  -3.72775018e-01\n",
      "   -7.19845533e+00  -1.45676219e+00   5.12836128e-02   6.42255545e-01\n",
      "   -8.52473319e-01]\n",
      " [  3.19025777e-02  -1.62714899e+00   5.12292206e-01  -5.79241574e-01\n",
      "    1.13982752e-01  -3.63347121e-03  -4.45846289e-01  -1.76358715e-01\n",
      "   -1.40023434e+00]\n",
      " [ -1.73621500e+00   1.23155153e+00  -3.32531571e-01  -1.84215534e+00\n",
      "    5.92778862e-01   1.55168808e+00  -2.03682780e+00  -1.46071270e-01\n",
      "   -5.88676095e-01]\n",
      " [ -9.85043526e-01   9.60233331e-01   1.16868472e+00   5.79655021e-02\n",
      "    4.47287321e-01   6.60408199e-01  -9.69808936e-01  -8.38333070e-01\n",
      "   -1.47859171e-01]\n",
      " [  2.33609304e-01  -5.48155785e-01   4.73596543e-01  -2.09362879e-02\n",
      "    2.09957838e-01   4.03605431e-01   2.12539718e-01   9.56339180e-01\n",
      "    1.78278697e+00]\n",
      " [  6.78589940e-02  -6.42523170e-01  -1.43354997e-01   1.16953993e+00\n",
      "    1.05445750e-01   9.53827024e-01  -8.48946869e-02   1.15891743e+00\n",
      "    1.32281315e+00]]\n",
      "[[ 0.67480522  0.34402522 -2.75883913 -1.06482196]\n",
      " [ 0.04579543 -0.17527038 -1.79082024  0.3502335 ]\n",
      " [ 0.41004753 -0.23095934  0.35277709  0.04007388]\n",
      " [-0.51920855  2.05687833 -2.84471917  0.81236279]\n",
      " [ 1.70992756 -2.19101882  1.22128284 -1.26002455]\n",
      " [-0.89409125  0.39788005  1.03557551  0.6840694 ]\n",
      " [-0.38455945  1.29922605  0.17796971  1.26854563]\n",
      " [-0.08743756  1.18354595  0.05677756  1.52238417]\n",
      " [ 1.04393184 -0.33783454 -0.27496275  1.2356149 ]]\n",
      "[  6.31186724e-01   2.72327714e-04  -3.28350754e-04   5.94209790e-01\n",
      "  -6.24389768e-01  -3.34137439e-04  -8.48352909e-02   8.08348134e-02\n",
      "   9.74516422e-02]\n",
      "[-0.16242586 -0.2910969  -0.02627903 -0.22708768]\n"
     ]
    }
   ],
   "source": [
    "print(sess.run(w1))   ### 값 출력\n",
    "print(sess.run(w2))\n",
    "print(sess.run(b1))\n",
    "print(sess.run(b2))"
   ]
  },
  {
   "cell_type": "code",
   "execution_count": null,
   "metadata": {},
   "outputs": [],
   "source": []
  }
 ],
 "metadata": {
  "kernelspec": {
   "display_name": "Python 3",
   "language": "python",
   "name": "python3"
  },
  "language_info": {
   "codemirror_mode": {
    "name": "ipython",
    "version": 3
   },
   "file_extension": ".py",
   "mimetype": "text/x-python",
   "name": "python",
   "nbconvert_exporter": "python",
   "pygments_lexer": "ipython3",
   "version": "3.6.5"
  }
 },
 "nbformat": 4,
 "nbformat_minor": 2
}
