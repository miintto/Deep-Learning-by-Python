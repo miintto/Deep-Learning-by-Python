{
 "cells": [
  {
   "cell_type": "code",
   "execution_count": 1,
   "metadata": {},
   "outputs": [],
   "source": [
    "import numpy as np\n",
    "import matplotlib.pyplot as plt\n",
    "import pandas as pd"
   ]
  },
  {
   "cell_type": "code",
   "execution_count": 2,
   "metadata": {},
   "outputs": [],
   "source": [
    "iris_df = pd.read_csv('iris_num.csv')"
   ]
  },
  {
   "cell_type": "code",
   "execution_count": 3,
   "metadata": {},
   "outputs": [
    {
     "data": {
      "text/html": [
       "<div>\n",
       "<style scoped>\n",
       "    .dataframe tbody tr th:only-of-type {\n",
       "        vertical-align: middle;\n",
       "    }\n",
       "\n",
       "    .dataframe tbody tr th {\n",
       "        vertical-align: top;\n",
       "    }\n",
       "\n",
       "    .dataframe thead th {\n",
       "        text-align: right;\n",
       "    }\n",
       "</style>\n",
       "<table border=\"1\" class=\"dataframe\">\n",
       "  <thead>\n",
       "    <tr style=\"text-align: right;\">\n",
       "      <th></th>\n",
       "      <th>sepal_length</th>\n",
       "      <th>sepal_width</th>\n",
       "      <th>petal_length</th>\n",
       "      <th>petal_width</th>\n",
       "      <th>target_name</th>\n",
       "    </tr>\n",
       "  </thead>\n",
       "  <tbody>\n",
       "    <tr>\n",
       "      <th>0</th>\n",
       "      <td>5.1</td>\n",
       "      <td>3.5</td>\n",
       "      <td>1.4</td>\n",
       "      <td>0.2</td>\n",
       "      <td>0</td>\n",
       "    </tr>\n",
       "    <tr>\n",
       "      <th>1</th>\n",
       "      <td>4.9</td>\n",
       "      <td>3.0</td>\n",
       "      <td>1.4</td>\n",
       "      <td>0.2</td>\n",
       "      <td>0</td>\n",
       "    </tr>\n",
       "    <tr>\n",
       "      <th>2</th>\n",
       "      <td>4.7</td>\n",
       "      <td>3.2</td>\n",
       "      <td>1.3</td>\n",
       "      <td>0.2</td>\n",
       "      <td>0</td>\n",
       "    </tr>\n",
       "    <tr>\n",
       "      <th>3</th>\n",
       "      <td>4.6</td>\n",
       "      <td>3.1</td>\n",
       "      <td>1.5</td>\n",
       "      <td>0.2</td>\n",
       "      <td>0</td>\n",
       "    </tr>\n",
       "    <tr>\n",
       "      <th>4</th>\n",
       "      <td>5.0</td>\n",
       "      <td>3.6</td>\n",
       "      <td>1.4</td>\n",
       "      <td>0.2</td>\n",
       "      <td>0</td>\n",
       "    </tr>\n",
       "    <tr>\n",
       "      <th>5</th>\n",
       "      <td>5.4</td>\n",
       "      <td>3.9</td>\n",
       "      <td>1.7</td>\n",
       "      <td>0.4</td>\n",
       "      <td>0</td>\n",
       "    </tr>\n",
       "    <tr>\n",
       "      <th>6</th>\n",
       "      <td>4.6</td>\n",
       "      <td>3.4</td>\n",
       "      <td>1.4</td>\n",
       "      <td>0.3</td>\n",
       "      <td>0</td>\n",
       "    </tr>\n",
       "    <tr>\n",
       "      <th>7</th>\n",
       "      <td>5.0</td>\n",
       "      <td>3.4</td>\n",
       "      <td>1.5</td>\n",
       "      <td>0.2</td>\n",
       "      <td>0</td>\n",
       "    </tr>\n",
       "  </tbody>\n",
       "</table>\n",
       "</div>"
      ],
      "text/plain": [
       "   sepal_length  sepal_width  petal_length  petal_width  target_name\n",
       "0           5.1          3.5           1.4          0.2            0\n",
       "1           4.9          3.0           1.4          0.2            0\n",
       "2           4.7          3.2           1.3          0.2            0\n",
       "3           4.6          3.1           1.5          0.2            0\n",
       "4           5.0          3.6           1.4          0.2            0\n",
       "5           5.4          3.9           1.7          0.4            0\n",
       "6           4.6          3.4           1.4          0.3            0\n",
       "7           5.0          3.4           1.5          0.2            0"
      ]
     },
     "execution_count": 3,
     "metadata": {},
     "output_type": "execute_result"
    }
   ],
   "source": [
    "iris_df.head(8)"
   ]
  },
  {
   "cell_type": "code",
   "execution_count": 4,
   "metadata": {},
   "outputs": [
    {
     "data": {
      "text/html": [
       "<div>\n",
       "<style scoped>\n",
       "    .dataframe tbody tr th:only-of-type {\n",
       "        vertical-align: middle;\n",
       "    }\n",
       "\n",
       "    .dataframe tbody tr th {\n",
       "        vertical-align: top;\n",
       "    }\n",
       "\n",
       "    .dataframe thead th {\n",
       "        text-align: right;\n",
       "    }\n",
       "</style>\n",
       "<table border=\"1\" class=\"dataframe\">\n",
       "  <thead>\n",
       "    <tr style=\"text-align: right;\">\n",
       "      <th></th>\n",
       "      <th>sepal_length</th>\n",
       "      <th>sepal_width</th>\n",
       "      <th>petal_length</th>\n",
       "      <th>petal_width</th>\n",
       "      <th>target_name</th>\n",
       "    </tr>\n",
       "  </thead>\n",
       "  <tbody>\n",
       "    <tr>\n",
       "      <th>count</th>\n",
       "      <td>150.000000</td>\n",
       "      <td>150.000000</td>\n",
       "      <td>150.000000</td>\n",
       "      <td>150.000000</td>\n",
       "      <td>150.000000</td>\n",
       "    </tr>\n",
       "    <tr>\n",
       "      <th>mean</th>\n",
       "      <td>5.843333</td>\n",
       "      <td>3.054000</td>\n",
       "      <td>3.758667</td>\n",
       "      <td>1.198667</td>\n",
       "      <td>1.000000</td>\n",
       "    </tr>\n",
       "    <tr>\n",
       "      <th>std</th>\n",
       "      <td>0.828066</td>\n",
       "      <td>0.433594</td>\n",
       "      <td>1.764420</td>\n",
       "      <td>0.763161</td>\n",
       "      <td>0.819232</td>\n",
       "    </tr>\n",
       "    <tr>\n",
       "      <th>min</th>\n",
       "      <td>4.300000</td>\n",
       "      <td>2.000000</td>\n",
       "      <td>1.000000</td>\n",
       "      <td>0.100000</td>\n",
       "      <td>0.000000</td>\n",
       "    </tr>\n",
       "    <tr>\n",
       "      <th>25%</th>\n",
       "      <td>5.100000</td>\n",
       "      <td>2.800000</td>\n",
       "      <td>1.600000</td>\n",
       "      <td>0.300000</td>\n",
       "      <td>0.000000</td>\n",
       "    </tr>\n",
       "    <tr>\n",
       "      <th>50%</th>\n",
       "      <td>5.800000</td>\n",
       "      <td>3.000000</td>\n",
       "      <td>4.350000</td>\n",
       "      <td>1.300000</td>\n",
       "      <td>1.000000</td>\n",
       "    </tr>\n",
       "    <tr>\n",
       "      <th>75%</th>\n",
       "      <td>6.400000</td>\n",
       "      <td>3.300000</td>\n",
       "      <td>5.100000</td>\n",
       "      <td>1.800000</td>\n",
       "      <td>2.000000</td>\n",
       "    </tr>\n",
       "    <tr>\n",
       "      <th>max</th>\n",
       "      <td>7.900000</td>\n",
       "      <td>4.400000</td>\n",
       "      <td>6.900000</td>\n",
       "      <td>2.500000</td>\n",
       "      <td>2.000000</td>\n",
       "    </tr>\n",
       "  </tbody>\n",
       "</table>\n",
       "</div>"
      ],
      "text/plain": [
       "       sepal_length  sepal_width  petal_length  petal_width  target_name\n",
       "count    150.000000   150.000000    150.000000   150.000000   150.000000\n",
       "mean       5.843333     3.054000      3.758667     1.198667     1.000000\n",
       "std        0.828066     0.433594      1.764420     0.763161     0.819232\n",
       "min        4.300000     2.000000      1.000000     0.100000     0.000000\n",
       "25%        5.100000     2.800000      1.600000     0.300000     0.000000\n",
       "50%        5.800000     3.000000      4.350000     1.300000     1.000000\n",
       "75%        6.400000     3.300000      5.100000     1.800000     2.000000\n",
       "max        7.900000     4.400000      6.900000     2.500000     2.000000"
      ]
     },
     "execution_count": 4,
     "metadata": {},
     "output_type": "execute_result"
    }
   ],
   "source": [
    "iris_df.describe()"
   ]
  },
  {
   "cell_type": "code",
   "execution_count": 5,
   "metadata": {},
   "outputs": [
    {
     "name": "stdout",
     "output_type": "stream",
     "text": [
      "(150, 5)\n"
     ]
    }
   ],
   "source": [
    "iris_data = np.array(iris_df)\n",
    "print(iris_data.shape)   ### data shape"
   ]
  },
  {
   "cell_type": "code",
   "execution_count": 6,
   "metadata": {},
   "outputs": [
    {
     "name": "stdout",
     "output_type": "stream",
     "text": [
      "[50 50 50]\n"
     ]
    }
   ],
   "source": [
    "count_target = np.bincount(iris_data[:, 4].astype(int))\n",
    "print(count_target)   ### 0, 1, 2 각각 50개씩 있음"
   ]
  },
  {
   "cell_type": "code",
   "execution_count": 7,
   "metadata": {},
   "outputs": [],
   "source": [
    "from sklearn.model_selection import train_test_split"
   ]
  },
  {
   "cell_type": "code",
   "execution_count": 8,
   "metadata": {},
   "outputs": [],
   "source": [
    "### X, y를 각각 train set과 test set으로 분리해줌\n",
    "\n",
    "X_train, X_test, y_train, y_test = train_test_split(iris_data[:, 0:4], iris_data[:, 4].astype(int), random_state = 0, test_size=0.25)"
   ]
  },
  {
   "cell_type": "code",
   "execution_count": 9,
   "metadata": {},
   "outputs": [
    {
     "name": "stdout",
     "output_type": "stream",
     "text": [
      "[[ 5.9  3.   4.2  1.5]\n",
      " [ 5.8  2.6  4.   1.2]\n",
      " [ 6.8  3.   5.5  2.1]\n",
      " [ 4.7  3.2  1.3  0.2]\n",
      " [ 6.9  3.1  5.1  2.3]\n",
      " [ 5.   3.5  1.6  0.6]] X Train Set\n",
      "\n",
      "[[ 5.8  2.8  5.1  2.4]\n",
      " [ 6.   2.2  4.   1. ]\n",
      " [ 5.5  4.2  1.4  0.2]\n",
      " [ 7.3  2.9  6.3  1.8]\n",
      " [ 5.   3.4  1.5  0.2]\n",
      " [ 6.3  3.3  6.   2.5]] X Test Set\n",
      "\n",
      "[1 1 2 0 2 0] y Train Set\n",
      "\n",
      "[2 1 0 2 0 2] y Test Set\n",
      "\n"
     ]
    }
   ],
   "source": [
    "print(X_train[:6], 'X Train Set\\n')\n",
    "print(X_test[:6], 'X Test Set\\n')\n",
    "print(y_train[:6], 'y Train Set\\n')\n",
    "print(y_test[:6], 'y Test Set\\n')"
   ]
  },
  {
   "cell_type": "code",
   "execution_count": 10,
   "metadata": {},
   "outputs": [
    {
     "name": "stdout",
     "output_type": "stream",
     "text": [
      "[37 34 41]\n"
     ]
    }
   ],
   "source": [
    "count_train = np.bincount(y_train)\n",
    "print(count_train)"
   ]
  },
  {
   "cell_type": "code",
   "execution_count": 11,
   "metadata": {
    "scrolled": true
   },
   "outputs": [
    {
     "data": {
      "image/png": "[encoded data removed]",
      "text/plain": [
       "<matplotlib.figure.Figure at 0x7fa4954db550>"
      ]
     },
     "metadata": {},
     "output_type": "display_data"
    }
   ],
   "source": [
    "### sepal_length, petal_length의 scatter plot 찍어보기\n",
    "\n",
    "_ = plt.scatter(X_train[:, 0], X_train[:, 2], c = y_train)"
   ]
  },
  {
   "cell_type": "markdown",
   "metadata": {},
   "source": [
    "### Tensorflow로 분석해보자."
   ]
  },
  {
   "cell_type": "code",
   "execution_count": 12,
   "metadata": {},
   "outputs": [
    {
     "name": "stderr",
     "output_type": "stream",
     "text": [
      "Using TensorFlow backend.\n"
     ]
    }
   ],
   "source": [
    "### y를 벡터형태로 변환시켜준다.\n",
    "\n",
    "from keras.utils import np_utils\n",
    "\n",
    "Y_train = np_utils.to_categorical(y_train)\n",
    "Y_test = np_utils.to_categorical(y_test)\n",
    "Y_train = Y_train.astype(int)\n",
    "Y_test = Y_test.astype(int)"
   ]
  },
  {
   "cell_type": "code",
   "execution_count": 13,
   "metadata": {},
   "outputs": [],
   "source": [
    "import tensorflow as tf\n",
    "from sklearn.utils import shuffle\n",
    "sess = tf.Session()"
   ]
  },
  {
   "cell_type": "code",
   "execution_count": 14,
   "metadata": {},
   "outputs": [],
   "source": [
    "### Model\n",
    "\n",
    "x = tf.placeholder(tf.float32, shape=[None, 4])\n",
    "t = tf.placeholder(tf.float32, shape=[None, 3])\n",
    "\n",
    "W1 = tf.Variable(tf.truncated_normal([4, 3]))\n",
    "b1 = tf.Variable(tf.zeros([3]))\n",
    "y = tf.nn.softmax(tf.matmul(x, W1)+b1)\n",
    "\n",
    "\n",
    "cross_ent = tf.reduce_mean(-tf.reduce_sum(t*tf.log(y), reduction_indices=[1]))   ### loss function (multi일때 사용)\n",
    "\n",
    "lr = 0.1   ### learning rate\n",
    "train_step = tf.train.GradientDescentOptimizer(lr).minimize(cross_ent)\n",
    "\n",
    "correct_prediction = tf.equal(tf.argmax(y, 1), tf.argmax(t, 1))   ### ?\n",
    "accuracy = tf.reduce_mean(tf.cast(correct_prediction, tf.float32))   ### ?"
   ]
  },
  {
   "cell_type": "code",
   "execution_count": 15,
   "metadata": {},
   "outputs": [],
   "source": [
    "sess.run(tf.global_variables_initializer())   ### initialize"
   ]
  },
  {
   "cell_type": "code",
   "execution_count": 16,
   "metadata": {
    "scrolled": true
   },
   "outputs": [
    {
     "name": "stdout",
     "output_type": "stream",
     "text": [
      "112\n",
      "7\n"
     ]
    }
   ],
   "source": [
    "n_samples = X_train.shape[0]\n",
    "n_batch_size = 16   ### 보통 2^n 꼴로 정한다.\n",
    "n_batches = n_samples // n_batch_size\n",
    "\n",
    "print(n_samples)   ### Train : 112개 / Test : 38개\n",
    "print(n_batches)   ### 7"
   ]
  },
  {
   "cell_type": "code",
   "execution_count": 17,
   "metadata": {},
   "outputs": [
    {
     "name": "stdout",
     "output_type": "stream",
     "text": [
      "float64\n",
      "int64\n"
     ]
    }
   ],
   "source": [
    "print(X_train.dtype)\n",
    "print(Y_train.dtype)"
   ]
  },
  {
   "cell_type": "code",
   "execution_count": 18,
   "metadata": {},
   "outputs": [
    {
     "name": "stdout",
     "output_type": "stream",
     "text": [
      "epoch: 0 accuracy of training set = 0.366071\n",
      "epoch: 10 accuracy of training set = 0.776786\n",
      "epoch: 20 accuracy of training set = 0.696429\n",
      "epoch: 30 accuracy of training set = 0.875\n",
      "epoch: 40 accuracy of training set = 0.973214\n",
      "epoch: 50 accuracy of training set = 0.973214\n",
      "epoch: 60 accuracy of training set = 0.973214\n",
      "epoch: 70 accuracy of training set = 0.892857\n",
      "epoch: 80 accuracy of training set = 0.875\n",
      "epoch: 90 accuracy of training set = 0.973214\n"
     ]
    }
   ],
   "source": [
    "### Learning\n",
    "\n",
    "for epoch in range(100):   ### 100번 반복\n",
    "    X_, Y_ = shuffle(X_train, Y_train)   ### 순서를 섞어준다.\n",
    "    \n",
    "    for i in range(n_batches):   ### 16개씩 n_batches 번 학습\n",
    "        start = i*n_batch_size\n",
    "        end = start + n_batch_size\n",
    "        sess.run(train_step, feed_dict={x:X_[start:end], t:Y_[start:end]})\n",
    "        \n",
    "    if epoch % 10 == 0:\n",
    "        accuracy_train = accuracy.eval(session=sess, feed_dict={x:X_train, t:Y_train})\n",
    "        print('epoch:', epoch, \"accuracy of training set =\", accuracy_train)"
   ]
  },
  {
   "cell_type": "code",
   "execution_count": 19,
   "metadata": {},
   "outputs": [
    {
     "name": "stdout",
     "output_type": "stream",
     "text": [
      "0.126911 0.973214\n"
     ]
    }
   ],
   "source": [
    "loss_train = cross_ent.eval(session=sess, feed_dict={x:X_train, t:Y_train})\n",
    "accuracy_train = accuracy.eval(session=sess, feed_dict={x:X_train, t:Y_train})\n",
    "print(loss_train, accuracy_train)"
   ]
  },
  {
   "cell_type": "code",
   "execution_count": 20,
   "metadata": {
    "scrolled": false
   },
   "outputs": [
    {
     "name": "stdout",
     "output_type": "stream",
     "text": [
      "0.190057 0.947368\n"
     ]
    }
   ],
   "source": [
    "loss_test = cross_ent.eval(session=sess, feed_dict={x:X_test, t:Y_test})\n",
    "accuracy_test = accuracy.eval(session=sess, feed_dict={x:X_test, t:Y_test})\n",
    "print(loss_test, accuracy_test)"
   ]
  },
  {
   "cell_type": "code",
   "execution_count": 21,
   "metadata": {
    "scrolled": true
   },
   "outputs": [
    {
     "name": "stdout",
     "output_type": "stream",
     "text": [
      "[[  5.28543787e-05   1.52009036e-02   9.84746218e-01]\n",
      " [  3.34622734e-03   9.20538306e-01   7.61154369e-02]\n",
      " [  9.98296440e-01   1.70360622e-03   3.59184626e-10]\n",
      " [  5.72606268e-06   5.76589592e-02   9.42335367e-01]\n",
      " [  9.81988490e-01   1.80113986e-02   6.02155978e-08]\n",
      " [  8.78147421e-06   5.73486229e-03   9.94256318e-01]\n",
      " [  9.91925776e-01   8.07426032e-03   1.70995893e-08]\n",
      " [  7.97513686e-03   8.72657061e-01   1.19367748e-01]\n",
      " [  2.21901946e-03   8.31707537e-01   1.66073471e-01]\n",
      " [  2.21578218e-02   9.27774549e-01   5.00676185e-02]]\n"
     ]
    }
   ],
   "source": [
    "result = y.eval(session=sess, feed_dict={x:X_test})\n",
    "print(result[:10])"
   ]
  },
  {
   "cell_type": "markdown",
   "metadata": {},
   "source": [
    "### Keras"
   ]
  },
  {
   "cell_type": "code",
   "execution_count": 22,
   "metadata": {},
   "outputs": [],
   "source": [
    "from keras.models import Sequential\n",
    "from keras.layers import Dense, Activation\n",
    "from keras.optimizers import SGD   ### stochastic GD"
   ]
  },
  {
   "cell_type": "code",
   "execution_count": 23,
   "metadata": {},
   "outputs": [
    {
     "name": "stdout",
     "output_type": "stream",
     "text": [
      "_________________________________________________________________\n",
      "Layer (type)                 Output Shape              Param #   \n",
      "=================================================================\n",
      "dense_1 (Dense)              (None, 3)                 15        \n",
      "_________________________________________________________________\n",
      "dense_2 (Dense)              (None, 5)                 20        \n",
      "_________________________________________________________________\n",
      "dense_3 (Dense)              (None, 6)                 36        \n",
      "_________________________________________________________________\n",
      "dense_4 (Dense)              (None, 3)                 21        \n",
      "=================================================================\n",
      "Total params: 92\n",
      "Trainable params: 92\n",
      "Non-trainable params: 0\n",
      "_________________________________________________________________\n"
     ]
    }
   ],
   "source": [
    "model = Sequential()\n",
    "model.add(Dense(input_dim = 4, units = 3, activation = 'sigmoid'))\n",
    "model.add(Dense(units = 5, activation = 'sigmoid'))\n",
    "model.add(Dense(units = 6, activation = 'sigmoid'))\n",
    "model.add(Dense(units = 3, activation = 'softmax'))\n",
    "model.summary()"
   ]
  },
  {
   "cell_type": "code",
   "execution_count": 24,
   "metadata": {},
   "outputs": [],
   "source": [
    "lr = 0.1\n",
    "model.compile(loss = 'categorical_crossentropy', optimizer = SGD(lr), metrics = ['accuracy'])"
   ]
  },
  {
   "cell_type": "code",
   "execution_count": 25,
   "metadata": {},
   "outputs": [
    {
     "data": {
      "text/plain": [
       "<keras.callbacks.History at 0x7fa4e3579b70>"
      ]
     },
     "execution_count": 25,
     "metadata": {},
     "output_type": "execute_result"
    }
   ],
   "source": [
    "### Learning\n",
    "\n",
    "model.fit(X_train, Y_train, epochs = 100, batch_size = 16, verbose=0)"
   ]
  },
  {
   "cell_type": "code",
   "execution_count": 26,
   "metadata": {},
   "outputs": [
    {
     "name": "stdout",
     "output_type": "stream",
     "text": [
      "112/112 [==============================] - 0s 213us/step\n",
      "[0.67252714293343685, 0.6964285714285714]\n",
      "38/38 [==============================] - 0s 86us/step\n",
      "[0.6965903639793396, 0.57894737155813925]\n"
     ]
    }
   ],
   "source": [
    "loss_and_metrics_Train = model.evaluate(X_train, Y_train)\n",
    "print(loss_and_metrics_Train)\n",
    "loss_and_metrics_Test = model.evaluate(X_test, Y_test)\n",
    "print(loss_and_metrics_Test)"
   ]
  },
  {
   "cell_type": "code",
   "execution_count": null,
   "metadata": {},
   "outputs": [],
   "source": [
    "model."
   ]
  }
 ],
 "metadata": {
  "kernelspec": {
   "display_name": "Python 3",
   "language": "python",
   "name": "python3"
  },
  "language_info": {
   "codemirror_mode": {
    "name": "ipython",
    "version": 3
   },
   "file_extension": ".py",
   "mimetype": "text/x-python",
   "name": "python",
   "nbconvert_exporter": "python",
   "pygments_lexer": "ipython3",
   "version": "3.6.3"
  }
 },
 "nbformat": 4,
 "nbformat_minor": 2
}
