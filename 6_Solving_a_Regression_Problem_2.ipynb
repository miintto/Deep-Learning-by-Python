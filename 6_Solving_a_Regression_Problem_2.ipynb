{
 "cells": [
  {
   "cell_type": "markdown",
   "metadata": {},
   "source": [
    "# Solving a Regression Problem (2)"
   ]
  },
  {
   "cell_type": "code",
   "execution_count": 1,
   "metadata": {},
   "outputs": [],
   "source": [
    "import numpy as np\n",
    "import matplotlib.pyplot as plt\n",
    "\n",
    "from sklearn.preprocessing import PolynomialFeatures\n",
    "from sklearn.linear_model import LinearRegression"
   ]
  },
  {
   "cell_type": "markdown",
   "metadata": {},
   "source": [
    "### Data Example"
   ]
  },
  {
   "cell_type": "code",
   "execution_count": 2,
   "metadata": {},
   "outputs": [
    {
     "name": "stdout",
     "output_type": "stream",
     "text": [
      "[22 20 25  4 10 15 28 11 18 29 27 35 37  2 39 30 34 16 36  8 13  5 17 14 33\n",
      "  7 32  1 26 12 31 24  6 23 21 19  9 38  3  0]\n",
      "10\n"
     ]
    }
   ],
   "source": [
    "dat=np.loadtxt(fname = 'regData1.txt', delimiter = ',')   ### 데이터 불러오기 (40, 2)\n",
    "\n",
    "n_sample=dat.shape[0]   ### 데이터 길이 추출\n",
    "\n",
    "np.random.seed(0)\n",
    "rindex=np.random.permutation(n_sample)   ### 0~39까지랜덤 수 추출\n",
    "print(rindex)\n",
    "\n",
    "ncut=int(n_sample/4)   ### 40개의 1/4인 10개 계산  \n",
    "print(ncut)\n",
    "\n",
    "X_train=dat[rindex[: -ncut], 0].reshape(-1, 1)   ### Train, Test 분리\n",
    "Y_train=dat[rindex[: -ncut], 1].reshape(-1, 1)   ### reshape()에서 -1은 나머지 숫자에 맞춰서 자동설정\n",
    "X_test=dat[rindex[-ncut:], 0].reshape(-1, 1)\n",
    "Y_test=dat[rindex[-ncut:], 1].reshape(-1, 1)"
   ]
  },
  {
   "cell_type": "code",
   "execution_count": 3,
   "metadata": {
    "scrolled": true
   },
   "outputs": [
    {
     "data": {
      "image/png": "[encoded data removed]",
      "text/plain": [
       "<Figure size 432x288 with 1 Axes>"
      ]
     },
     "metadata": {},
     "output_type": "display_data"
    }
   ],
   "source": [
    "### 그래프 출력\n",
    "\n",
    "plt.xlim((0, 1))\n",
    "plt.ylim((-1.5, 1.5))\n",
    "plt.plot(X_train, Y_train, 'bo', label='Train')\n",
    "plt.plot(X_test, Y_test, 'rs', label='Test')\n",
    "plt.title('Train data and Text data')\n",
    "plt.xlabel('x')\n",
    "plt.ylabel('y')\n",
    "_=plt.legend(loc='best')"
   ]
  },
  {
   "cell_type": "markdown",
   "metadata": {},
   "source": [
    "### Linear Regression"
   ]
  },
  {
   "cell_type": "code",
   "execution_count": 4,
   "metadata": {},
   "outputs": [],
   "source": [
    "class simpleNet:\n",
    "    def __init__(self):\n",
    "        self.W = np.random.rand(2, 1)\n",
    "        \n",
    "    def predict(self, x, W):\n",
    "        return W[0]+x*W[1]\n",
    "    \n",
    "    def loss(self, x, t, W):\n",
    "        y = self.predict(x, W)\n",
    "        loss = np.mean((y-t)**2)\n",
    "        return loss"
   ]
  },
  {
   "cell_type": "code",
   "execution_count": 5,
   "metadata": {},
   "outputs": [
    {
     "name": "stdout",
     "output_type": "stream",
     "text": [
      "[[ 0.75861562]\n",
      " [ 0.10590761]]\n"
     ]
    }
   ],
   "source": [
    "linNet = simpleNet()\n",
    "W_init = linNet.W.copy()\n",
    "print(W_init)    "
   ]
  },
  {
   "cell_type": "code",
   "execution_count": 6,
   "metadata": {},
   "outputs": [
    {
     "name": "stdout",
     "output_type": "stream",
     "text": [
      "2.11630055578\n"
     ]
    }
   ],
   "source": [
    "ypred = linNet.predict(X_train, W_init)\n",
    "errLoss = linNet.loss(X_train, Y_train, W_init)\n",
    "print(errLoss)"
   ]
  },
  {
   "cell_type": "code",
   "execution_count": 7,
   "metadata": {},
   "outputs": [],
   "source": [
    "def grad_decent(x, y, iniW, lr, stepNum):\n",
    "    W = iniW.copy()\n",
    "    dW=np.zeros_like(W)\n",
    "    for i in range(stepNum):\n",
    "        ypred=linNet.predict(x, W)\n",
    "        dW[0] = 2*np.mean(ypred-y)\n",
    "        dW[1] = 2*np.mean((ypred-y)*x)\n",
    "        W-=lr*dW\n",
    "        \n",
    "        return W"
   ]
  },
  {
   "cell_type": "code",
   "execution_count": 8,
   "metadata": {},
   "outputs": [
    {
     "name": "stdout",
     "output_type": "stream",
     "text": [
      "[[ 0.73231814]\n",
      " [ 0.08809196]]\n",
      "2.01679174336\n"
     ]
    }
   ],
   "source": [
    "W = grad_decent(X_train, Y_train, W_init, 0.01, 5000)\n",
    "print(W)\n",
    "print(linNet.loss(X_train, Y_train, W))"
   ]
  },
  {
   "cell_type": "code",
   "execution_count": 9,
   "metadata": {},
   "outputs": [
    {
     "data": {
      "text/plain": [
       "2.0167917433617322"
      ]
     },
     "execution_count": 9,
     "metadata": {},
     "output_type": "execute_result"
    }
   ],
   "source": [
    "linNet.loss(X_train, Y_train, W)"
   ]
  },
  {
   "cell_type": "code",
   "execution_count": 10,
   "metadata": {},
   "outputs": [],
   "source": [
    "xval = np.linspace(0, 1, 101).reshape(-1,1)\n",
    "yval = W[0]*xval+W[1]"
   ]
  },
  {
   "cell_type": "code",
   "execution_count": 11,
   "metadata": {},
   "outputs": [
    {
     "data": {
      "image/png": "[encoded data removed]",
      "text/plain": [
       "<Figure size 432x288 with 1 Axes>"
      ]
     },
     "metadata": {},
     "output_type": "display_data"
    }
   ],
   "source": [
    "plt.xlim((0, 1))\n",
    "plt.ylim((-1.5, 1.5))\n",
    "plt.plot(xval, yval, label='Linear Model')\n",
    "plt.plot(X_train, Y_train, 'bo', label='Train')\n",
    "plt.legend(loc='best')\n",
    "_=plt.title('Digree {} \\n TestErr={:.2e}'.format(1, errLoss))"
   ]
  },
  {
   "cell_type": "code",
   "execution_count": null,
   "metadata": {},
   "outputs": [],
   "source": []
  }
 ],
 "metadata": {
  "kernelspec": {
   "display_name": "Python 3",
   "language": "python",
   "name": "python3"
  },
  "language_info": {
   "codemirror_mode": {
    "name": "ipython",
    "version": 3
   },
   "file_extension": ".py",
   "mimetype": "text/x-python",
   "name": "python",
   "nbconvert_exporter": "python",
   "pygments_lexer": "ipython3",
   "version": "3.6.5"
  }
 },
 "nbformat": 4,
 "nbformat_minor": 2
}
