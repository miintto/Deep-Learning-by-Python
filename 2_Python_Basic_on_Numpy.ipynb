{
 "cells": [
  {
   "cell_type": "markdown",
   "metadata": {},
   "source": [
    "# Python Basic on Numpy"
   ]
  },
  {
   "cell_type": "code",
   "execution_count": 2,
   "metadata": {},
   "outputs": [
    {
     "name": "stdout",
     "output_type": "stream",
     "text": [
      "1.12.1\n"
     ]
    }
   ],
   "source": [
    "import numpy as np\n",
    "print(np.__version__)"
   ]
  },
  {
   "cell_type": "markdown",
   "metadata": {},
   "source": [
    "### np.array"
   ]
  },
  {
   "cell_type": "code",
   "execution_count": 2,
   "metadata": {},
   "outputs": [
    {
     "name": "stdout",
     "output_type": "stream",
     "text": [
      "a= [1 2 3]\n",
      "<class 'numpy.ndarray'>\n",
      "(3,)\n",
      "int64\n",
      "1\n"
     ]
    }
   ],
   "source": [
    "a=np.array([1, 2, 3])\n",
    "print('a=', a)\n",
    "print(type(a))\n",
    "print(a.shape)\n",
    "print(a.dtype)\n",
    "print(a.ndim)"
   ]
  },
  {
   "cell_type": "code",
   "execution_count": 3,
   "metadata": {},
   "outputs": [
    {
     "name": "stdout",
     "output_type": "stream",
     "text": [
      "[[1 2 3]\n",
      " [4 5 6]]\n",
      "(2, 3) int64 2\n"
     ]
    }
   ],
   "source": [
    "b=np.array([[1, 2, 3], [4, 5, 6]])\n",
    "print(b)\n",
    "print(b.shape, b.dtype, b.ndim)"
   ]
  },
  {
   "cell_type": "code",
   "execution_count": 4,
   "metadata": {},
   "outputs": [
    {
     "name": "stdout",
     "output_type": "stream",
     "text": [
      "[[[ 1.5  2.   3. ]\n",
      "  [ 4.   5.   6. ]]\n",
      "\n",
      " [[ 3.   1.   5. ]\n",
      "  [ 5.   6.   7. ]]]\n"
     ]
    }
   ],
   "source": [
    "a=np.array([[[1.5, 2, 3], [4, 5, 6]], [[3, 1, 5], [5, 6, 7]]])\n",
    "print(a)"
   ]
  },
  {
   "cell_type": "code",
   "execution_count": 5,
   "metadata": {},
   "outputs": [
    {
     "name": "stdout",
     "output_type": "stream",
     "text": [
      "a= \n",
      " [[ 1.+2.j  3.+0.j]\n",
      " [ 5.+0.j  6.-3.j]]\n",
      "(2, 2)\n",
      "complex128\n"
     ]
    }
   ],
   "source": [
    "a=np.array([[1+2j, 3], [5, 6-3j]], dtype=complex)   ### i로는 안되고 j로 써야 함!!\n",
    "print('a= \\n', a)\n",
    "print(a.shape)\n",
    "print(a.dtype)"
   ]
  },
  {
   "cell_type": "markdown",
   "metadata": {},
   "source": [
    "### zeros, ones, full, eye, arange, linspace, reshape, concatenate"
   ]
  },
  {
   "cell_type": "code",
   "execution_count": 6,
   "metadata": {
    "scrolled": true
   },
   "outputs": [
    {
     "name": "stdout",
     "output_type": "stream",
     "text": [
      "[[ 0.  0.]\n",
      " [ 0.  0.]]\n",
      "[[ 1.  1.]]\n",
      "[[7 7]\n",
      " [7 7]]\n",
      "[[ 1.  0.  0.]\n",
      " [ 0.  1.  0.]\n",
      " [ 0.  0.  1.]]\n"
     ]
    }
   ],
   "source": [
    "a=np.zeros((2, 2))   ### 2*2의 영행렬\n",
    "print(a)\n",
    "\n",
    "b=np.ones((1, 2))   ### 1*2의 1행렬\n",
    "print(b)\n",
    "\n",
    "c=np.full((2, 2), 7)   ### 2*2의 7행렬\n",
    "print(c)\n",
    "\n",
    "d=np.eye(3)   ### 3*3 의 identity\n",
    "print(d)"
   ]
  },
  {
   "cell_type": "code",
   "execution_count": 10,
   "metadata": {},
   "outputs": [
    {
     "name": "stdout",
     "output_type": "stream",
     "text": [
      "[ 0.    0.25  0.5   0.75  1.    1.25  1.5   1.75  2.  ]\n",
      "[ 0.          0.6981317   1.3962634   2.0943951   2.7925268   3.4906585\n",
      "  4.1887902   4.88692191  5.58505361  6.28318531]\n"
     ]
    }
   ],
   "source": [
    "pi=np.pi\n",
    "\n",
    "a=np.linspace(0, 2, 9)\n",
    "print(a)\n",
    "b=np.linspace(0, 2*pi, 10)\n",
    "print(b)"
   ]
  },
  {
   "cell_type": "code",
   "execution_count": 7,
   "metadata": {},
   "outputs": [
    {
     "name": "stdout",
     "output_type": "stream",
     "text": [
      "[0 1 2 3 4 5]\n",
      "[  0  20  40  60  80 100]\n",
      "[ 0.1  0.2  0.3  0.4  0.5  0.6  0.7  0.8  0.9  1.   1.1  1.2  1.3  1.4  1.5\n",
      "  1.6  1.7  1.8  1.9]\n",
      "[ 0.   0.3  0.6  0.9  1.2  1.5  1.8]\n"
     ]
    }
   ],
   "source": [
    "a=np.arange(6)   ### 0부터 6개 \n",
    "print(a)\n",
    "\n",
    "b=np.arange(0, 120, 20)   ### 0부터 120까지 20의 간격으로\n",
    "print(b)\n",
    "\n",
    "c=np.arange(0.1, 2, 0.1)   ### 0부터 1, 2까지 0.1의 간격으로\n",
    "print(c)\n",
    "\n",
    "d=np.arange(0, 2, 0.3)   ### 0부터 2까지 0.3의 간격으로\n",
    "print(d)"
   ]
  },
  {
   "cell_type": "code",
   "execution_count": 11,
   "metadata": {},
   "outputs": [
    {
     "name": "stdout",
     "output_type": "stream",
     "text": [
      "[ 0.  0.  0.  0.  0.  0.] (6,)\n",
      "[[ 0.]\n",
      " [ 0.]\n",
      " [ 0.]\n",
      " [ 0.]\n",
      " [ 0.]\n",
      " [ 0.]] (6, 1)\n",
      "[[ 0.  0.  0.  0.  0.  0.]] (1, 6)\n",
      "[ 0.  0.  0.  0.  0.  0.] (6,)\n"
     ]
    }
   ],
   "source": [
    "a=np.zeros(6)\n",
    "print(a, a.shape)\n",
    "\n",
    "aa=a.reshape(6, 1)\n",
    "print(aa, aa.shape)\n",
    "\n",
    "b=a.reshape(1, 6)\n",
    "print(b, b.shape)\n",
    "\n",
    "bb=b.flatten()\n",
    "print(bb, bb.shape)"
   ]
  },
  {
   "cell_type": "code",
   "execution_count": 12,
   "metadata": {},
   "outputs": [
    {
     "name": "stdout",
     "output_type": "stream",
     "text": [
      "[[0 1]\n",
      " [2 3]\n",
      " [4 5]] \n",
      " [[ 10.  20.]\n",
      " [ 30.  40.]\n",
      " [ 50.  60.]]\n"
     ]
    }
   ],
   "source": [
    "a1=np.arange(6).reshape(3, 2)\n",
    "a2=np.linspace(10, 60, 6).reshape(3, 2)\n",
    "print(a1, '\\n', a2)"
   ]
  },
  {
   "cell_type": "code",
   "execution_count": 15,
   "metadata": {},
   "outputs": [
    {
     "name": "stdout",
     "output_type": "stream",
     "text": [
      "[[  0.   1.]\n",
      " [  2.   3.]\n",
      " [  4.   5.]\n",
      " [ 10.  20.]\n",
      " [ 30.  40.]\n",
      " [ 50.  60.]] \n",
      "\n",
      "[[  0.   1.]\n",
      " [  2.   3.]\n",
      " [  4.   5.]\n",
      " [ 10.  20.]\n",
      " [ 30.  40.]\n",
      " [ 50.  60.]] \n",
      "\n",
      "[[  0.   1.  10.  20.]\n",
      " [  2.   3.  30.  40.]\n",
      " [  4.   5.  50.  60.]] \n",
      "\n"
     ]
    }
   ],
   "source": [
    "a=np.concatenate((a1, a2))\n",
    "print(a, '\\n')\n",
    "b=np.concatenate((a1, a2), axis=0)   ### axis=0 이 기본.\n",
    "print(b, '\\n')\n",
    "c=np.concatenate((a1, a2), axis=1)\n",
    "print(c, '\\n')"
   ]
  },
  {
   "cell_type": "markdown",
   "metadata": {},
   "source": [
    "### Random Number"
   ]
  },
  {
   "cell_type": "code",
   "execution_count": 16,
   "metadata": {},
   "outputs": [
    {
     "name": "stdout",
     "output_type": "stream",
     "text": [
      "[5 8 9 5 0 0 1 7 6 9 2 4 5 2 4 2 4 7 7 9 1 7 0 6 9 9 7 6 9 1 0 1 8 8 3 9 8\n",
      " 7 3 6 5 1 9 3 4 8 1 4 0 3 9 2 0 4 9 2 7 7 9 8 6 9 3 7 7 4 5 9 3 6 8 0 2 7\n",
      " 7 9 7 3 0 8 7 7 1 1 3 0 8 6 4 5 6 2 5 7 8 4 4 7 7 4]\n"
     ]
    }
   ],
   "source": [
    "np.random.seed(1)\n",
    "a=np.random.randint(0, 10, 100) 0부터 9까지 100개의 random 추출 \n",
    "print(a)\n",
    "np.random.randint?   ### 도움말 참고."
   ]
  },
  {
   "cell_type": "markdown",
   "metadata": {},
   "source": [
    "### element, submatrix"
   ]
  },
  {
   "cell_type": "code",
   "execution_count": 18,
   "metadata": {},
   "outputs": [
    {
     "name": "stdout",
     "output_type": "stream",
     "text": [
      "5\n",
      "8\n",
      "3\n"
     ]
    }
   ],
   "source": [
    "a=np.array([5, 8, 3])\n",
    "print(a[0])\n",
    "print(a[1])\n",
    "print(a[2])"
   ]
  },
  {
   "cell_type": "code",
   "execution_count": 4,
   "metadata": {},
   "outputs": [
    {
     "name": "stdout",
     "output_type": "stream",
     "text": [
      "[0 1 2 3 4 5 6 7 8 9]\n",
      "[0 1]\n",
      "[3 4 5 6 7 8 9]\n",
      "[0 1 2 3 4 5 6 7 8]\n",
      "[0 1 2 3 4 5 6 7]\n",
      "[5]\n",
      "[1 4 7]\n",
      "[0 2 4 6 8]\n",
      "[  0   1   2   3   4   5   6   7   8 100]\n",
      "[  0 -10  10   3   4   5   6   7   8 100]\n"
     ]
    }
   ],
   "source": [
    "a=np.arange(10)\n",
    "print(a)\n",
    "print(a[:2])   ### 처음 ~ 2번째\n",
    "print(a[3:])   ### 3번째 ~ 끝\n",
    "print(a[:-1])   ### 끝에 1개 -\n",
    "print(a[:-2])   ### 끝에 2개 -\n",
    "print(a[5:6])   ### 5 ~ (5-1)번째 -\n",
    "print(a[1:9:3])   ### 1부터 9번째까지 3번째마다\n",
    "print(a[::2])   ### 2번씩 건너뛰어서\n",
    "a[9]=100\n",
    "print(a)\n",
    "a[1:3]=[-10, 10]\n",
    "print(a)"
   ]
  },
  {
   "cell_type": "code",
   "execution_count": 5,
   "metadata": {},
   "outputs": [
    {
     "name": "stdout",
     "output_type": "stream",
     "text": [
      "[  0 -10  10   3   4   5  -5   5   8 100]\n",
      "[-5  5]\n"
     ]
    }
   ],
   "source": [
    "b=np.array([-5, 5])\n",
    "a[6:8]=b\n",
    "print(a)\n",
    "print(b)"
   ]
  },
  {
   "cell_type": "code",
   "execution_count": 6,
   "metadata": {},
   "outputs": [
    {
     "name": "stdout",
     "output_type": "stream",
     "text": [
      "[[ 1  2  3  4]\n",
      " [ 5  6  7  8]\n",
      " [ 9 10 11 12]]\n"
     ]
    }
   ],
   "source": [
    "a=np.array([[1, 2, 3, 4], [5, 6, 7, 8], [9, 10, 11, 12]])\n",
    "print(a)"
   ]
  },
  {
   "cell_type": "code",
   "execution_count": 7,
   "metadata": {},
   "outputs": [
    {
     "name": "stdout",
     "output_type": "stream",
     "text": [
      "(3,)\n",
      "(3, 1)\n"
     ]
    }
   ],
   "source": [
    "b=a[:, 1]\n",
    "c=a[:, 1:2]\n",
    "print(b.shape)\n",
    "print(c.shape)"
   ]
  },
  {
   "cell_type": "code",
   "execution_count": 13,
   "metadata": {},
   "outputs": [
    {
     "name": "stdout",
     "output_type": "stream",
     "text": [
      "[[ 1  2  3]\n",
      " [ 4  5  6]\n",
      " [ 7  8  9]\n",
      " [10 11 12]]\n",
      "[0 2 0 1]\n"
     ]
    }
   ],
   "source": [
    "a=np.array([[1, 2, 3], [4, 5, 6], [7, 8, 9], [10, 11, 12]])\n",
    "print(a)\n",
    "b=np.array([0, 2, 0, 1])\n",
    "print(b)"
   ]
  },
  {
   "cell_type": "code",
   "execution_count": 20,
   "metadata": {},
   "outputs": [
    {
     "name": "stdout",
     "output_type": "stream",
     "text": [
      "[ 1  6  7 11]\n"
     ]
    }
   ],
   "source": [
    "print(a[:, b])\n",
    "print(a[range(4), b])   ###두개 헷갈리지 않기!!"
   ]
  },
  {
   "cell_type": "code",
   "execution_count": 21,
   "metadata": {},
   "outputs": [
    {
     "name": "stdout",
     "output_type": "stream",
     "text": [
      "[[11  2  3]\n",
      " [ 4  5 16]\n",
      " [17  8  9]\n",
      " [10 21 12]]\n"
     ]
    }
   ],
   "source": [
    "a[np.arange(4), b]+=10\n",
    "print(a)"
   ]
  },
  {
   "cell_type": "markdown",
   "metadata": {},
   "source": [
    "### Copy"
   ]
  },
  {
   "cell_type": "code",
   "execution_count": 22,
   "metadata": {},
   "outputs": [
    {
     "name": "stdout",
     "output_type": "stream",
     "text": [
      "[0 1 2 3 4 5] \n",
      " [0 1 2 3 4 5] \n",
      " [0 1 2 3 4 5] \n",
      " [0 1 2 3 4 5]\n",
      "[1000    1    2    3    4    5] \n",
      " [1000    1    2    3    4    5] \n",
      " [1000    1    2    3    4    5] \n",
      " [0 1 2 3 4 5]\n"
     ]
    }
   ],
   "source": [
    "a=np.arange(6)\n",
    "b=a\n",
    "c=a[:]\n",
    "d=a.copy()\n",
    "\n",
    "print(a, '\\n', b, '\\n', c, '\\n' , d)\n",
    "\n",
    "a[0]=1000\n",
    "print(a, '\\n', b, '\\n', c, '\\n' , d)   ###copy일 때는 초기값 고정!"
   ]
  },
  {
   "cell_type": "code",
   "execution_count": 23,
   "metadata": {},
   "outputs": [
    {
     "name": "stdout",
     "output_type": "stream",
     "text": [
      "[[   1 1000    3    4]\n",
      " [   5    6    7    8]\n",
      " [   9   10   11   12]] \n",
      " [[   1 1000    3    4]\n",
      " [   5    6    7    8]\n",
      " [   9   10   11   12]] \n",
      " [[ 1  2  3  4]\n",
      " [ 5  6  7  8]\n",
      " [ 9 10 11 12]] \n",
      " [[1000    3]\n",
      " [   6    7]]\n"
     ]
    }
   ],
   "source": [
    "a=np.array([[1, 2, 3, 4], [5, 6, 7, 8], [9, 10, 11, 12]])\n",
    "b=a\n",
    "c=a.copy()\n",
    "d=a[:2, 1:3]\n",
    "\n",
    "d[0, 0]=1000\n",
    "print(a, '\\n', b, '\\n', c, '\\n', d)"
   ]
  },
  {
   "cell_type": "markdown",
   "metadata": {},
   "source": [
    "### Transpose, boolean"
   ]
  },
  {
   "cell_type": "code",
   "execution_count": 24,
   "metadata": {},
   "outputs": [
    {
     "name": "stdout",
     "output_type": "stream",
     "text": [
      "[[0 1 2]\n",
      " [3 4 5]]\n",
      "[[0 3]\n",
      " [1 4]\n",
      " [2 5]]\n"
     ]
    }
   ],
   "source": [
    "a=np.arange(6).reshape(2, 3)\n",
    "print(a)\n",
    "print(a.T)"
   ]
  },
  {
   "cell_type": "code",
   "execution_count": 25,
   "metadata": {},
   "outputs": [
    {
     "name": "stdout",
     "output_type": "stream",
     "text": [
      "[[1 2]\n",
      " [3 4]]\n"
     ]
    }
   ],
   "source": [
    "x=np.array([[1, 2], [3, 4]])\n",
    "print(x.T.T)"
   ]
  },
  {
   "cell_type": "code",
   "execution_count": 26,
   "metadata": {},
   "outputs": [
    {
     "name": "stdout",
     "output_type": "stream",
     "text": [
      "[[False False]\n",
      " [ True  True]\n",
      " [ True  True]]\n",
      "[3 4 5 6]\n",
      "[1 2 3 4 5 6]\n"
     ]
    }
   ],
   "source": [
    "a=np.array([[1, 2], [3, 4], [5, 6]])\n",
    "bool=(a>2)\n",
    "print(bool)\n",
    "print(a[bool])\n",
    "print(a[a>0])"
   ]
  },
  {
   "cell_type": "code",
   "execution_count": null,
   "metadata": {},
   "outputs": [],
   "source": []
  }
 ],
 "metadata": {
  "kernelspec": {
   "display_name": "Python 3",
   "language": "python",
   "name": "python3"
  },
  "language_info": {
   "codemirror_mode": {
    "name": "ipython",
    "version": 3
   },
   "file_extension": ".py",
   "mimetype": "text/x-python",
   "name": "python",
   "nbconvert_exporter": "python",
   "pygments_lexer": "ipython3",
   "version": "3.6.4"
  }
 },
 "nbformat": 4,
 "nbformat_minor": 2
}
