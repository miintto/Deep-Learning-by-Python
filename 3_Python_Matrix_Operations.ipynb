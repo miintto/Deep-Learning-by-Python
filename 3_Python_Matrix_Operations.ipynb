{
 "cells": [
  {
   "cell_type": "markdown",
   "metadata": {},
   "source": [
    "# Python Matrix Operations"
   ]
  },
  {
   "cell_type": "code",
   "execution_count": 12,
   "metadata": {},
   "outputs": [
    {
     "name": "stdout",
     "output_type": "stream",
     "text": [
      "1.12.1\n"
     ]
    }
   ],
   "source": [
    "import numpy as np\n",
    "print(np.__version__)"
   ]
  },
  {
   "cell_type": "markdown",
   "metadata": {},
   "source": [
    "### Elementwise operations"
   ]
  },
  {
   "cell_type": "code",
   "execution_count": 5,
   "metadata": {},
   "outputs": [
    {
     "name": "stdout",
     "output_type": "stream",
     "text": [
      "[[ 1.  2.]\n",
      " [ 3.  4.]] \n",
      "\n",
      " [[ 5.  6.]\n",
      " [ 7.  8.]] \n",
      "\n",
      " (2, 2) \n",
      "\n",
      " (2, 2)\n"
     ]
    }
   ],
   "source": [
    "x=np.array([[1, 2], [3, 4]], dtype=np.float64)\n",
    "y=np.array([[5, 6], [7, 8]], dtype=np.float64)\n",
    "print(A, '\\n\\n', B, '\\n\\n', A.shape, '\\n\\n', B.shape)"
   ]
  },
  {
   "cell_type": "code",
   "execution_count": 10,
   "metadata": {},
   "outputs": [
    {
     "name": "stdout",
     "output_type": "stream",
     "text": [
      "[[  6.   8.]\n",
      " [ 10.  12.]] \n",
      "\n",
      "[[-4. -4.]\n",
      " [-4. -4.]] \n",
      "\n",
      "[[  5.  12.]\n",
      " [ 21.  32.]] \n",
      "\n",
      "[[ 0.2         0.33333333]\n",
      " [ 0.42857143  0.5       ]]\n"
     ]
    }
   ],
   "source": [
    "print(x+y, '\\n')\n",
    "print(x-y, '\\n')\n",
    "print(x*y, '\\n')\n",
    "print(x/y)"
   ]
  },
  {
   "cell_type": "code",
   "execution_count": 9,
   "metadata": {},
   "outputs": [
    {
     "name": "stdout",
     "output_type": "stream",
     "text": [
      "[[  1.   4.]\n",
      " [  9.  16.]] [[ 25.  36.]\n",
      " [ 49.  64.]] \n",
      "\n",
      "[[    5.    36.]\n",
      " [  343.  4096.]] \n",
      "\n",
      "[[ 1.          1.41421356]\n",
      " [ 1.73205081  2.        ]] \n",
      "\n",
      "[[  2.71828183   7.3890561 ]\n",
      " [ 20.08553692  54.59815003]] \n",
      "\n",
      "[[ 0.84147098  0.90929743]\n",
      " [ 0.14112001 -0.7568025 ]] \n",
      "\n"
     ]
    }
   ],
   "source": [
    "print(x**2, y**2, '\\n')\n",
    "print(y**x, '\\n')\n",
    "print(np.sqrt(x), '\\n')\n",
    "print(np.exp(x), '\\n')\n",
    "print(np.sin(x))"
   ]
  },
  {
   "cell_type": "markdown",
   "metadata": {},
   "source": [
    "### Inner Product / Matrix Vector Product / Matrix-Matirx Product"
   ]
  },
  {
   "cell_type": "code",
   "execution_count": 16,
   "metadata": {},
   "outputs": [
    {
     "name": "stdout",
     "output_type": "stream",
     "text": [
      "[[1 2]\n",
      " [3 4]] (2, 2) \n",
      "\n",
      "[ 9 10] (2,)\n"
     ]
    }
   ],
   "source": [
    "A=np.array([[1, 2], [3, 4]])\n",
    "B=np.array([[5, 6], [7, 8]])\n",
    "print(A, A.shape, '\\n')\n",
    "\n",
    "v=np.array([9, 10])\n",
    "w=np.array([11, 12])\n",
    "print(v, v.shape)"
   ]
  },
  {
   "cell_type": "code",
   "execution_count": 17,
   "metadata": {},
   "outputs": [],
   "source": [
    "vrow=v.reshape(1, 2)   # row vector [v1, v2]\n",
    "vcol=v.reshape(2, 1)   # column vector [v1, v2].T"
   ]
  },
  {
   "cell_type": "code",
   "execution_count": 18,
   "metadata": {},
   "outputs": [
    {
     "name": "stdout",
     "output_type": "stream",
     "text": [
      "219\n",
      "219\n",
      "219\n"
     ]
    }
   ],
   "source": [
    "### v, w의 내적계산\n",
    "print(v.dot(w))\n",
    "print(w.dot(v))   # 순서는 상관없다.\n",
    "print(np.dot(v, w))"
   ]
  },
  {
   "cell_type": "code",
   "execution_count": 19,
   "metadata": {},
   "outputs": [
    {
     "name": "stdout",
     "output_type": "stream",
     "text": [
      "[219]\n"
     ]
    },
    {
     "ename": "ValueError",
     "evalue": "shapes (2,1) and (2,) not aligned: 1 (dim 1) != 2 (dim 0)",
     "output_type": "error",
     "traceback": [
      "\u001b[0;31m---------------------------------------------------------------------------\u001b[0m",
      "\u001b[0;31mValueError\u001b[0m                                Traceback (most recent call last)",
      "\u001b[0;32m<ipython-input-19-25dd9598352d>\u001b[0m in \u001b[0;36m<module>\u001b[0;34m()\u001b[0m\n\u001b[1;32m      1\u001b[0m \u001b[0mprint\u001b[0m\u001b[0;34m(\u001b[0m\u001b[0mvrow\u001b[0m\u001b[0;34m.\u001b[0m\u001b[0mdot\u001b[0m\u001b[0;34m(\u001b[0m\u001b[0mw\u001b[0m\u001b[0;34m)\u001b[0m\u001b[0;34m)\u001b[0m  \u001b[0;31m# [219]\u001b[0m\u001b[0;34m\u001b[0m\u001b[0m\n\u001b[0;32m----> 2\u001b[0;31m \u001b[0mprint\u001b[0m\u001b[0;34m(\u001b[0m\u001b[0mvcol\u001b[0m\u001b[0;34m.\u001b[0m\u001b[0mdot\u001b[0m\u001b[0;34m(\u001b[0m\u001b[0mw\u001b[0m\u001b[0;34m)\u001b[0m\u001b[0;34m)\u001b[0m  \u001b[0;31m# 실행안됨\u001b[0m\u001b[0;34m\u001b[0m\u001b[0m\n\u001b[0m\u001b[1;32m      3\u001b[0m \u001b[0mprint\u001b[0m\u001b[0;34m(\u001b[0m\u001b[0mw\u001b[0m\u001b[0;34m.\u001b[0m\u001b[0mdot\u001b[0m\u001b[0;34m(\u001b[0m\u001b[0mvrow\u001b[0m\u001b[0;34m)\u001b[0m\u001b[0;34m)\u001b[0m  \u001b[0;31m# 실행안됨\u001b[0m\u001b[0;34m\u001b[0m\u001b[0m\n\u001b[1;32m      4\u001b[0m \u001b[0mprint\u001b[0m\u001b[0;34m(\u001b[0m\u001b[0mw\u001b[0m\u001b[0;34m.\u001b[0m\u001b[0mdot\u001b[0m\u001b[0;34m(\u001b[0m\u001b[0mvcol\u001b[0m\u001b[0;34m)\u001b[0m\u001b[0;34m)\u001b[0m  \u001b[0;31m# [219]\u001b[0m\u001b[0;34m\u001b[0m\u001b[0m\n",
      "\u001b[0;31mValueError\u001b[0m: shapes (2,1) and (2,) not aligned: 1 (dim 1) != 2 (dim 0)"
     ]
    }
   ],
   "source": [
    "print(vrow.dot(w))\n",
    "print(vcol.dot(w))  # 실행안됨\n",
    "print(w.dot(vrow))  # 실행안됨\n",
    "print(w.dot(vcol))"
   ]
  },
  {
   "cell_type": "code",
   "execution_count": 22,
   "metadata": {},
   "outputs": [
    {
     "name": "stdout",
     "output_type": "stream",
     "text": [
      "[219]\n",
      "[219]\n"
     ]
    }
   ],
   "source": [
    "print(np.dot(vrow, w))\n",
    "print(np.dot(vcol,w))  # 실행안됨\n",
    "print(np.dot(w, vrow))  # 실행안됨\n",
    "print(np.dot(w, vcol))\n",
    "\n",
    "### 이렇게 해봐도 마찬가지...\n",
    "### 앞에 column vector 이 오거나 뒤에 row vector 가 오면 안된다.."
   ]
  },
  {
   "cell_type": "code",
   "execution_count": 34,
   "metadata": {
    "scrolled": true
   },
   "outputs": [
    {
     "name": "stdout",
     "output_type": "stream",
     "text": [
      "[[1 2]\n",
      " [3 4]] [ 9 10] \n",
      "\n",
      "[29 67] \n",
      "\n",
      "[29 67] (2,) \n",
      "\n",
      "[[ 9 20]\n",
      " [27 40]] \n",
      "\n",
      "[39 58] \n",
      "\n",
      "[39 58] (2,) \n",
      "\n",
      "[[ 9 20]\n",
      " [27 40]]\n"
     ]
    }
   ],
   "source": [
    "print(A, v, '\\n')   # A, v의 값\n",
    "print(A.dot(v), '\\n')\n",
    "print(np.dot(A, v), np.dot(A, v).shape, '\\n')\n",
    "print(A*v, '\\n')\n",
    "print(v.dot(A), '\\n')\n",
    "print(np.dot(v, A), np.dot(v, A).shape, '\\n')\n",
    "print(v*A)"
   ]
  },
  {
   "cell_type": "code",
   "execution_count": 35,
   "metadata": {},
   "outputs": [
    {
     "name": "stdout",
     "output_type": "stream",
     "text": [
      "[[ 9 18]\n",
      " [30 40]]\n",
      "[[ 9 18]\n",
      " [30 40]]\n",
      "[[ 9 20]\n",
      " [27 40]]\n",
      "[[ 9 20]\n",
      " [27 40]]\n"
     ]
    }
   ],
   "source": [
    "print(A*vcol)\n",
    "print(vcol*A)\n",
    "print(A*vrow)\n",
    "print(vrow*A)"
   ]
  },
  {
   "cell_type": "code",
   "execution_count": 36,
   "metadata": {},
   "outputs": [
    {
     "name": "stdout",
     "output_type": "stream",
     "text": [
      "[[19 22]\n",
      " [43 50]]\n",
      "[[19 22]\n",
      " [43 50]]\n",
      "[[19 22]\n",
      " [43 50]]\n"
     ]
    }
   ],
   "source": [
    "print(A.dot(B))\n",
    "print(np.dot(A, B))\n",
    "print(np.matmul(A, B))   # 다 행렬곱"
   ]
  },
  {
   "cell_type": "markdown",
   "metadata": {},
   "source": [
    "### Broadcasting"
   ]
  },
  {
   "cell_type": "code",
   "execution_count": 39,
   "metadata": {},
   "outputs": [
    {
     "name": "stdout",
     "output_type": "stream",
     "text": [
      "[[ 1  2  3]\n",
      " [ 4  5  6]\n",
      " [ 7  8  9]\n",
      " [10 11 12]] [1 0 1] \n",
      "\n",
      "[[ 2  2  4]\n",
      " [ 5  5  7]\n",
      " [ 8  8 10]\n",
      " [11 11 13]]\n"
     ]
    }
   ],
   "source": [
    "x=np.array([[1, 2, 3], [4, 5, 6], [7, 8, 9], [10, 11, 12]])\n",
    "v=np.array([1, 0, 1])\n",
    "print(x, v, '\\n')\n",
    "print(x+v)"
   ]
  },
  {
   "cell_type": "code",
   "execution_count": 40,
   "metadata": {
    "scrolled": true
   },
   "outputs": [
    {
     "name": "stdout",
     "output_type": "stream",
     "text": [
      "[[ 2  2  4]\n",
      " [ 5  5  7]\n",
      " [ 8  8 10]\n",
      " [11 11 13]]\n"
     ]
    }
   ],
   "source": [
    "y=np.empty_like(x)\n",
    "\n",
    "for i in range(4):\n",
    "    y[i, :]=x[i, :]+v   # 이런식으로 계산할 수도 있음\n",
    "\n",
    "print(y)"
   ]
  },
  {
   "cell_type": "code",
   "execution_count": 41,
   "metadata": {},
   "outputs": [
    {
     "name": "stdout",
     "output_type": "stream",
     "text": [
      "[[1 0 1]\n",
      " [1 0 1]\n",
      " [1 0 1]\n",
      " [1 0 1]] \n",
      "\n",
      "[[ 2  2  4]\n",
      " [ 5  5  7]\n",
      " [ 8  8 10]\n",
      " [11 11 13]]\n"
     ]
    }
   ],
   "source": [
    "vv=np.tile(v, (4, 1))\n",
    "print(vv, '\\n')   # 또 이런식으로도 가능...\n",
    "print(x+vv)"
   ]
  },
  {
   "cell_type": "code",
   "execution_count": 44,
   "metadata": {},
   "outputs": [
    {
     "name": "stdout",
     "output_type": "stream",
     "text": [
      "[[ 2  3  4]\n",
      " [ 6  7  8]\n",
      " [10 11 12]\n",
      " [14 15 16]]\n"
     ]
    }
   ],
   "source": [
    "x=np.array([[1, 2, 3], [4, 5, 6], [7, 8, 9], [10, 11, 12]])\n",
    "v=np.array([[1, 2, 3, 4]])\n",
    "\n",
    "z=x+v.T\n",
    "\n",
    "print(z)"
   ]
  },
  {
   "cell_type": "markdown",
   "metadata": {},
   "source": [
    "# Basics Commands in Statistics"
   ]
  },
  {
   "cell_type": "markdown",
   "metadata": {},
   "source": [
    "### min, max, sum, cumsum"
   ]
  },
  {
   "cell_type": "code",
   "execution_count": 46,
   "metadata": {},
   "outputs": [
    {
     "name": "stdout",
     "output_type": "stream",
     "text": [
      "[[ 0  1  2  3]\n",
      " [ 4  5  6  7]\n",
      " [ 8  9 10 11]]\n"
     ]
    }
   ],
   "source": [
    "F=np.arange(12).reshape(3, 4)\n",
    "print(F)"
   ]
  },
  {
   "cell_type": "code",
   "execution_count": 53,
   "metadata": {},
   "outputs": [
    {
     "name": "stdout",
     "output_type": "stream",
     "text": [
      "66 \n",
      "\n",
      "66 \n",
      "\n",
      "[12 15 18 21] \n",
      "\n",
      "[ 6 22 38] \n",
      "\n",
      "[12 15 18 21] \n",
      "\n",
      "[ 6 22 38] \n",
      "\n"
     ]
    }
   ],
   "source": [
    "print(F.sum(), '\\n')\n",
    "print(np.sum(F), '\\n')\n",
    "print(F.sum(axis=0), '\\n')   # 아래로\n",
    "print(F.sum(axis=1), '\\n')   # -> 옆으로\n",
    "print(np.sum(F, axis=0), '\\n')   # 아래로\n",
    "print(np.sum(F, axis=1), '\\n')   # -> 옆으로"
   ]
  },
  {
   "cell_type": "code",
   "execution_count": 54,
   "metadata": {
    "scrolled": true
   },
   "outputs": [
    {
     "name": "stdout",
     "output_type": "stream",
     "text": [
      "0 \n",
      "\n",
      "[ 8  9 10 11] \n",
      "\n",
      "[ 3  7 11] \n",
      "\n",
      "[ 3  7 11] \n",
      "\n",
      "[[ 0  1  2  3]\n",
      " [ 4  6  8 10]\n",
      " [12 15 18 21]]\n"
     ]
    }
   ],
   "source": [
    "print(F.min(), '\\n')\n",
    "print(F.max(axis=0), '\\n')\n",
    "print(F.max(axis=1), '\\n')\n",
    "print(np.max(F, axis=1), '\\n')\n",
    "print(F.cumsum(axis=0))"
   ]
  },
  {
   "cell_type": "markdown",
   "metadata": {},
   "source": [
    "### mean, average, std, var, cov, corrcoef"
   ]
  },
  {
   "cell_type": "code",
   "execution_count": 57,
   "metadata": {
    "scrolled": true
   },
   "outputs": [
    {
     "name": "stdout",
     "output_type": "stream",
     "text": [
      "4.5\n",
      "4.5\n",
      "4.5\n",
      "2.87228132327\n",
      "2.87228132327\n",
      "8.25\n",
      "8.25\n"
     ]
    }
   ],
   "source": [
    "a=np.arange(10)\n",
    "print(a.mean())\n",
    "print(np.mean(a))\n",
    "print(np.average(a))   # a.average() 는 안됨...\n",
    "print(a.std())\n",
    "print(np.std(a))\n",
    "print(a.var())\n",
    "print(np.var(a))"
   ]
  },
  {
   "cell_type": "code",
   "execution_count": 59,
   "metadata": {},
   "outputs": [],
   "source": [
    "pi=np.pi\n",
    "z=2*pi*np.random.rand(1000)\n",
    "x=np.sin(z)\n",
    "y=np.cos(z)"
   ]
  },
  {
   "cell_type": "code",
   "execution_count": 61,
   "metadata": {},
   "outputs": [
    {
     "name": "stdout",
     "output_type": "stream",
     "text": [
      "0.477192224563\n",
      "0.522287448191 \n",
      "\n",
      "[[ 0.47719222 -0.01296368]\n",
      " [-0.01296368  0.52228745]]\n",
      "[[ 1.        -0.0259673]\n",
      " [-0.0259673  1.       ]]\n"
     ]
    }
   ],
   "source": [
    "x_mean=np.mean(x)\n",
    "x_var=np.var(x)\n",
    "x_std=np.std(x)\n",
    "\n",
    "y_mean=np.mean(y)\n",
    "y_var=np.var(y)\n",
    "y_std=np.std(y)\n",
    "\n",
    "print(x_var)\n",
    "print(y_var, '\\n')\n",
    "\n",
    "\n",
    "print(np.cov(x, y, bias='True'))   # covariance\n",
    "print(np.corrcoef(x, y))   # correlation"
   ]
  },
  {
   "cell_type": "code",
   "execution_count": 67,
   "metadata": {
    "scrolled": true
   },
   "outputs": [
    {
     "name": "stdout",
     "output_type": "stream",
     "text": [
      "3.13622866112\n",
      "3.28077508841\n",
      "3.28077508841\n"
     ]
    }
   ],
   "source": [
    "print(np.mean(z))\n",
    "print(np.var(z))\n",
    "\n",
    "z_bar=np.mean(z)\n",
    "z_sq=np.sum((z-z_bar)**2)\n",
    "print(z_sq/1000)   ### var() 는 N으로 나눈 것"
   ]
  },
  {
   "cell_type": "markdown",
   "metadata": {},
   "source": [
    "### sort"
   ]
  },
  {
   "cell_type": "code",
   "execution_count": 69,
   "metadata": {},
   "outputs": [
    {
     "name": "stdout",
     "output_type": "stream",
     "text": [
      "[[1 4]\n",
      " [3 1]] \n",
      "\n",
      "[[1 4]\n",
      " [1 3]] \n",
      "\n",
      "[1 1 3 4] \n",
      "\n",
      "[[1 1]\n",
      " [3 4]]\n"
     ]
    }
   ],
   "source": [
    "a=np.array([[1, 4], [3, 1]])\n",
    "print(a, '\\n')\n",
    "\n",
    "b=np.sort(a)\n",
    "print(b, '\\n')   # 내림차순\n",
    "\n",
    "c=np.sort(a, axis=None)\n",
    "print(c, '\\n')   # 전체를 다 내림차순\n",
    "\n",
    "d=np.sort(a, axis=0)\n",
    "print(d)"
   ]
  },
  {
   "cell_type": "code",
   "execution_count": null,
   "metadata": {},
   "outputs": [],
   "source": []
  }
 ],
 "metadata": {
  "kernelspec": {
   "display_name": "Python 3",
   "language": "python",
   "name": "python3"
  },
  "language_info": {
   "codemirror_mode": {
    "name": "ipython",
    "version": 3
   },
   "file_extension": ".py",
   "mimetype": "text/x-python",
   "name": "python",
   "nbconvert_exporter": "python",
   "pygments_lexer": "ipython3",
   "version": "3.6.4"
  }
 },
 "nbformat": 4,
 "nbformat_minor": 2
}
