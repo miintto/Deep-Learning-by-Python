{
 "cells": [
  {
   "cell_type": "markdown",
   "metadata": {},
   "source": [
    "# Tensorflow XOR"
   ]
  },
  {
   "cell_type": "code",
   "execution_count": 32,
   "metadata": {},
   "outputs": [],
   "source": [
    "import tensorflow as tf ### 기본 라이브러리 불러오기\n",
    "import numpy as np\n",
    "sess = tf.Session()"
   ]
  },
  {
   "cell_type": "code",
   "execution_count": 34,
   "metadata": {},
   "outputs": [],
   "source": [
    "### x1 --> h1 \n",
    "###             --> y\n",
    "### x2 --> h2\n",
    "\n",
    "### [x1 x2][w11 w12] + [b1 b2]\n",
    "###        [w21 w22]\n",
    "\n",
    "x = tf.placeholder(tf.float32, shape=[None, 2])   ### shape(-1, 2)\n",
    "t = tf.placeholder(tf.float32, shape=[None, 1])\n",
    "\n",
    "w1 = tf.Variable(tf.truncated_normal([2, 2]))\n",
    "b1 = tf.Variable(tf.zeros([2]))\n",
    "h = tf.nn.sigmoid(tf.matmul(x, w)+b)   ### 연산방법 정의 x*w + b\n",
    "\n",
    "w2 = tf.Variable(tf.truncated_normal([2, 1]))\n",
    "b2 = tf.Variable(tf.zeros([1]))\n",
    "y = tf.nn.sigmoid(tf.matmul(h, v)+c)   ### 연산방법 정의 x*w + b"
   ]
  },
  {
   "cell_type": "code",
   "execution_count": 2,
   "metadata": {},
   "outputs": [],
   "source": [
    "### 이렇게 응용할수도 있음ㅋ\n",
    "\n",
    "n_hidden_1 = 5\n",
    "n_hidden_2 = 3\n",
    "\n",
    "x = tf.placeholder(tf.float32, shape=[None, 2])   ### shape(-1, 2)\n",
    "t = tf.placeholder(tf.float32, shape=[None, 1])\n",
    "\n",
    "w = tf.Variable(tf.truncated_normal([2, n_hidden_1]))\n",
    "b = tf.Variable(tf.zeros([n_hidden_1]))\n",
    "h = tf.nn.sigmoid(tf.matmul(x, w)+b)   ### 연산방법 정의 x*w + b\n",
    "\n",
    "v = tf.Variable(tf.truncated_normal([n_hidden_1, n_hidden_2]))\n",
    "c = tf.Variable(tf.zeros([n_hidden_2]))\n",
    "g = tf.nn.sigmoid(tf.matmul(h, v)+c)   ### 연산방법 정의 x*w + b\n",
    "\n",
    "z = tf.Variable(tf.truncated_normal([n_hidden_2, 1]))\n",
    "d = tf.Variable(tf.zeros([1]))\n",
    "y = tf.nn.sigmoid(tf.matmul(g, z)+d)   ### 연산방법 정의 x*w + b"
   ]
  },
  {
   "cell_type": "code",
   "execution_count": 35,
   "metadata": {},
   "outputs": [],
   "source": [
    "cross_ent = -tf.reduce_mean(t*tf.log(y)+(1-t)*tf.log(1-y))   ### Error function"
   ]
  },
  {
   "cell_type": "code",
   "execution_count": 36,
   "metadata": {},
   "outputs": [],
   "source": [
    "optimizer = tf.train.GradientDescentOptimizer(0.1)\n",
    "train_step = optimizer.minimize(cross_ent)   ### gr. dcnt 를 최소화"
   ]
  },
  {
   "cell_type": "code",
   "execution_count": 37,
   "metadata": {},
   "outputs": [],
   "source": [
    "correct_pred = tf.equal(tf.to_float(tf.greater(y, 0.5)), t)   ### y와 0.5의 값 비교 ( T, F 반환 )"
   ]
  },
  {
   "cell_type": "markdown",
   "metadata": {},
   "source": [
    "### 연산 (한 바퀴 돌림)"
   ]
  },
  {
   "cell_type": "code",
   "execution_count": 38,
   "metadata": {},
   "outputs": [],
   "source": [
    "X = np.array([[0, 0], [0, 1], [1, 0], [1, 1]])   ### data 입력 (x1, x2, t)\n",
    "Y = np.array([[0], [1], [1], [0]])\n",
    "\n",
    "init = tf.global_variables_initializer()   ### initialize 필요\n",
    "sess.run(init)"
   ]
  },
  {
   "cell_type": "code",
   "execution_count": 39,
   "metadata": {},
   "outputs": [
    {
     "name": "stdout",
     "output_type": "stream",
     "text": [
      "[[ 0.61052281  0.51950318  0.64590317]\n",
      " [ 0.73192763  0.60064566  0.61946368]\n",
      " [ 0.51753682  0.4199765   0.77127534]\n",
      " [ 0.64062965  0.49089816  0.73838389]]\n"
     ]
    }
   ],
   "source": [
    "prob = y.eval(session=sess, feed_dict={x:X})   ### y값 계산\n",
    "print(prob)"
   ]
  },
  {
   "cell_type": "code",
   "execution_count": 40,
   "metadata": {},
   "outputs": [
    {
     "name": "stdout",
     "output_type": "stream",
     "text": [
      "[[False False False]\n",
      " [ True  True  True]\n",
      " [ True False  True]\n",
      " [False  True False]]\n"
     ]
    }
   ],
   "source": [
    "classified = correct_pred.eval(session=sess, feed_dict={x:X, t:Y})   ### 결과랑 비교해서 맞는지 판단\n",
    "print(classified)"
   ]
  },
  {
   "cell_type": "code",
   "execution_count": 41,
   "metadata": {
    "scrolled": true
   },
   "outputs": [
    {
     "name": "stdout",
     "output_type": "stream",
     "text": [
      "[[ 1.23105884  1.2994926  -0.18482552 -0.39021787  0.24577576]\n",
      " [-0.29448345  1.00067556  0.16616532  1.20708871  0.97778076]]\n",
      "[ 0.  0.  0.  0.  0.]\n"
     ]
    }
   ],
   "source": [
    "print(sess.run(w))   ### w, b 값 계산\n",
    "print(sess.run(b))"
   ]
  },
  {
   "cell_type": "markdown",
   "metadata": {},
   "source": [
    "### 학습 (반복)"
   ]
  },
  {
   "cell_type": "code",
   "execution_count": 42,
   "metadata": {},
   "outputs": [
    {
     "name": "stdout",
     "output_type": "stream",
     "text": [
      "epoch = 0\n",
      "epoch = 1000\n",
      "epoch = 2000\n",
      "epoch = 3000\n",
      "epoch = 4000\n",
      "epoch = 5000\n",
      "epoch = 6000\n",
      "epoch = 7000\n"
     ]
    }
   ],
   "source": [
    "### 옵티를 minimize\n",
    "\n",
    "for epoch in range(8000):   ### 8000번 계산한다.\n",
    "    sess.run(train_step, feed_dict={x:X, t:Y})\n",
    "    if epoch % 1000 == 0:   ### 이건 그냥 잘 돌아가는지 판단하려고...\n",
    "        print(\"epoch =\", epoch)"
   ]
  },
  {
   "cell_type": "code",
   "execution_count": 43,
   "metadata": {},
   "outputs": [
    {
     "name": "stdout",
     "output_type": "stream",
     "text": [
      "[[ True  True  True]\n",
      " [ True  True  True]\n",
      " [ True  True  True]\n",
      " [ True  True  True]]\n"
     ]
    }
   ],
   "source": [
    "classified = correct_pred.eval(session=sess, feed_dict={x:X, t:Y})   ### 제대로 분류되는지 판단\n",
    "print(classified)"
   ]
  },
  {
   "cell_type": "code",
   "execution_count": 44,
   "metadata": {
    "scrolled": true
   },
   "outputs": [
    {
     "name": "stdout",
     "output_type": "stream",
     "text": [
      "[[ 0.03795093  0.04104987  0.04466958]\n",
      " [ 0.94518322  0.96122307  0.95712084]\n",
      " [ 0.93551755  0.93747681  0.93362534]\n",
      " [ 0.07238428  0.05740198  0.06193444]]\n"
     ]
    }
   ],
   "source": [
    "prob = y.eval(session=sess, feed_dict={x:X})\n",
    "print(prob)"
   ]
  },
  {
   "cell_type": "code",
   "execution_count": 45,
   "metadata": {},
   "outputs": [
    {
     "name": "stdout",
     "output_type": "stream",
     "text": [
      "[[ 4.85187149  6.966187    0.81957722 -0.94797111  3.5514462 ]\n",
      " [-3.39210248  6.64593315 -2.38118172  3.16352844  4.10341597]]\n",
      "[ 1.68397045 -2.74034953 -0.01918325 -0.23187928 -5.84454536]\n"
     ]
    }
   ],
   "source": [
    "print(sess.run(w))   ### 값 출력\n",
    "print(sess.run(b))"
   ]
  },
  {
   "cell_type": "code",
   "execution_count": null,
   "metadata": {},
   "outputs": [],
   "source": []
  }
 ],
 "metadata": {
  "kernelspec": {
   "display_name": "Python 3",
   "language": "python",
   "name": "python3"
  },
  "language_info": {
   "codemirror_mode": {
    "name": "ipython",
    "version": 3
   },
   "file_extension": ".py",
   "mimetype": "text/x-python",
   "name": "python",
   "nbconvert_exporter": "python",
   "pygments_lexer": "ipython3",
   "version": "3.6.5"
  }
 },
 "nbformat": 4,
 "nbformat_minor": 2
}
