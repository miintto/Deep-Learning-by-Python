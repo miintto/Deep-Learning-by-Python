{
 "cells": [
  {
   "cell_type": "markdown",
   "metadata": {},
   "source": [
    "# Basics for Tensorflow"
   ]
  },
  {
   "cell_type": "markdown",
   "metadata": {},
   "source": [
    "### Basic data type and commands"
   ]
  },
  {
   "cell_type": "code",
   "execution_count": 1,
   "metadata": {},
   "outputs": [],
   "source": [
    "import tensorflow as tf"
   ]
  },
  {
   "cell_type": "code",
   "execution_count": 2,
   "metadata": {},
   "outputs": [
    {
     "name": "stdout",
     "output_type": "stream",
     "text": [
      "Tensor(\"Const:0\", shape=(), dtype=int32)\n",
      "Tensor(\"Const_1:0\", shape=(), dtype=int32)\n",
      "Tensor(\"add:0\", shape=(), dtype=int32)\n"
     ]
    }
   ],
   "source": [
    "a = tf.constant(1234, dtype=tf.int32)   ### 상수저장\n",
    "b = tf.constant(5000)\n",
    "total = a+b\n",
    "print(a)\n",
    "print(b)\n",
    "print(total)   ### 이렇게 해서는 값이 출력이 안됨..."
   ]
  },
  {
   "cell_type": "code",
   "execution_count": 3,
   "metadata": {},
   "outputs": [],
   "source": [
    "sess = tf.Session()"
   ]
  },
  {
   "cell_type": "code",
   "execution_count": 4,
   "metadata": {},
   "outputs": [
    {
     "name": "stdout",
     "output_type": "stream",
     "text": [
      "6234\n",
      "[1234, 5000]\n"
     ]
    }
   ],
   "source": [
    "print(sess.run(total))   ### 이 작업을 반드시 해야만 값이 출력이 됨\n",
    "print(sess.run([a, b]))"
   ]
  },
  {
   "cell_type": "code",
   "execution_count": 5,
   "metadata": {},
   "outputs": [
    {
     "name": "stdout",
     "output_type": "stream",
     "text": [
      "[ 0.16736257  0.22105455  0.22447443]\n",
      "[ 0.10523033  0.09197569  0.53415024]\n",
      "[ 1.69410849  1.00133932  1.13768053]\n",
      "[ 2.87762523  2.99764013  2.27601433]\n",
      "(array([ 1.77458704,  1.21513557,  1.145962  ], dtype=float32), array([ 2.77458715,  2.21513557,  2.145962  ], dtype=float32))\n"
     ]
    }
   ],
   "source": [
    "vec = tf.random_uniform(shape = (3,))\n",
    "out1 = vec+1\n",
    "out2 = vec+2\n",
    "print(sess.run(vec))\n",
    "print(sess.run(vec))   #결과값이 다르다, (랜덤)\n",
    "print(sess.run(out1))\n",
    "print(sess.run(out2))\n",
    "print(sess.run((out1, out2)))"
   ]
  },
  {
   "cell_type": "code",
   "execution_count": 6,
   "metadata": {},
   "outputs": [
    {
     "name": "stdout",
     "output_type": "stream",
     "text": [
      "4321\n",
      "Tensor(\"add_3:0\", shape=(), dtype=int32)\n"
     ]
    }
   ],
   "source": [
    "import tensorflow as tf\n",
    "sess=tf.Session()\n",
    "\n",
    "a = tf.constant(321)\n",
    "b = tf.constant(4000)\n",
    "\n",
    "add_op = a+b\n",
    "\n",
    "print(add_op)   # 이러면 결과가 안뜸...\n",
    "print(sess.run(add_op))   #이런식으로 계산해야함"
   ]
  },
  {
   "cell_type": "code",
   "execution_count": 7,
   "metadata": {},
   "outputs": [
    {
     "name": "stdout",
     "output_type": "stream",
     "text": [
      "80\n"
     ]
    }
   ],
   "source": [
    "### Exercise\n",
    "### a=10, b=40인 constant일 때, c=(20a-3b)를 계산하는 코드\n",
    "\n",
    "import tensorflow as tf\n",
    "\n",
    "a = tf.constant(10)\n",
    "b = tf.constant(40)\n",
    "\n",
    "sess = tf.Session()\n",
    "print(sess.run(20*a-3*b))"
   ]
  },
  {
   "cell_type": "markdown",
   "metadata": {},
   "source": [
    "### Placeholder"
   ]
  },
  {
   "cell_type": "code",
   "execution_count": 8,
   "metadata": {},
   "outputs": [],
   "source": [
    "a = tf.placeholder(tf.float32)\n",
    "b = tf.placeholder(tf.float32)\n",
    "adder_node = a+b"
   ]
  },
  {
   "cell_type": "code",
   "execution_count": 9,
   "metadata": {},
   "outputs": [
    {
     "name": "stdout",
     "output_type": "stream",
     "text": [
      "7.5\n",
      "[ 3.  7.]\n"
     ]
    }
   ],
   "source": [
    "print(sess.run(adder_node, feed_dict={a:3, b:4.5}))  ### 해당하는 a, b 값마다 adder_node 계산\n",
    "print(sess.run(adder_node, feed_dict={a:[1,3], b:[2, 4]}))   ### a, b가 벡터일때도 동일"
   ]
  },
  {
   "cell_type": "code",
   "execution_count": 10,
   "metadata": {},
   "outputs": [
    {
     "name": "stdout",
     "output_type": "stream",
     "text": [
      "18.0\n",
      "22.5\n"
     ]
    }
   ],
   "source": [
    "add_and_triple = adder_node*3\n",
    "print(sess.run(add_and_triple, feed_dict={a:4, b:2}))   ### 이런식으로 바로 넣어도 되고\n",
    "\n",
    "c = sess.run(add_and_triple, feed_dict={a:3, b:4.5})   ### 이렇게 미리 계산해서 넣어도 된다.\n",
    "print(c)"
   ]
  },
  {
   "cell_type": "code",
   "execution_count": 11,
   "metadata": {},
   "outputs": [
    {
     "name": "stdout",
     "output_type": "stream",
     "text": [
      "[2 4 6] [ 8 10 12]\n"
     ]
    }
   ],
   "source": [
    "a = tf.placeholder(tf.int32,[3])   ### data size가 3으로 고정\n",
    "\n",
    "b = tf.constant(2)\n",
    "x2_op = a*b\n",
    "\n",
    "r1 = sess.run(x2_op, feed_dict={a:[1, 2, 3]})\n",
    "r2 = sess.run(x2_op, feed_dict={a:[4, 5, 6]})\n",
    "print(r1, r2)"
   ]
  },
  {
   "cell_type": "code",
   "execution_count": 12,
   "metadata": {},
   "outputs": [
    {
     "name": "stdout",
     "output_type": "stream",
     "text": [
      "[10 20 30 40 50] [100 200]\n"
     ]
    }
   ],
   "source": [
    "a = tf.placeholder(tf.int32,[None])   ### data size 없음\n",
    "b = tf.constant(10)\n",
    "x10_op = a*b\n",
    "\n",
    "r1 = sess.run(x10_op, feed_dict={a:[1, 2, 3, 4, 5]})\n",
    "r2 = sess.run(x10_op, feed_dict={a:[10, 20]})\n",
    "print(r1, r2)"
   ]
  },
  {
   "cell_type": "code",
   "execution_count": 13,
   "metadata": {},
   "outputs": [
    {
     "data": {
      "text/plain": [
       "array([  6.5,  14.5,  30.5,  38.5])"
      ]
     },
     "execution_count": 13,
     "metadata": {},
     "output_type": "execute_result"
    }
   ],
   "source": [
    "### Exercise \n",
    "\n",
    "a = tf.placeholder(tf.float64, [None])\n",
    "b = tf.placeholder(tf.float64, [1])\n",
    "\n",
    "c = a*b+2.5\n",
    "\n",
    "sess.run(c, feed_dict={a:[1, 3, 7, 9], b:[4]})"
   ]
  },
  {
   "cell_type": "markdown",
   "metadata": {},
   "source": [
    "### Variable"
   ]
  },
  {
   "cell_type": "code",
   "execution_count": null,
   "metadata": {},
   "outputs": [],
   "source": [
    "import tensorflow as tf\n",
    "sess = tf.Session()"
   ]
  },
  {
   "cell_type": "code",
   "execution_count": 14,
   "metadata": {},
   "outputs": [
    {
     "name": "stdout",
     "output_type": "stream",
     "text": [
      "150\n",
      "100\n"
     ]
    }
   ],
   "source": [
    "a = tf.constant(100)\n",
    "b = tf.constant(50)\n",
    "v = tf.Variable(0)\n",
    "\n",
    "v = a+b\n",
    "\n",
    "print(sess.run(v))\n",
    "print(sess.run(a))"
   ]
  },
  {
   "cell_type": "code",
   "execution_count": 15,
   "metadata": {},
   "outputs": [
    {
     "name": "stdout",
     "output_type": "stream",
     "text": [
      "[150 200]\n"
     ]
    }
   ],
   "source": [
    "a = tf.constant(100)\n",
    "b = tf.placeholder(tf.int32)\n",
    "v = tf.Variable(0)\n",
    "\n",
    "v = a+b\n",
    "### out = sess.run(v, feed_dict={b:[50, 100]})\n",
    "\n",
    "print(sess.run(v, feed_dict={b:[50, 100]}))"
   ]
  },
  {
   "cell_type": "code",
   "execution_count": 16,
   "metadata": {},
   "outputs": [
    {
     "name": "stdout",
     "output_type": "stream",
     "text": [
      "[150 200]\n"
     ]
    }
   ],
   "source": [
    "### Example 4\n",
    "\n",
    "import tensorflow as tf\n",
    "sess = tf.Session()\n",
    "\n",
    "\n",
    "a = tf.Variable(100)    ### 얘가 변수면 좀 단계가 하나 더 필요...\n",
    "b = tf.placeholder(tf.int32)\n",
    "v = tf.Variable(0)\n",
    "\n",
    "v = a+b\n",
    "\n",
    "init = tf.global_variables_initializer()   ### variable 일 경우 이걸 반드시 해야지 값이 입력된다. (변수 initialize)\n",
    "sess.run(init)\n",
    "\n",
    "print(sess.run(v, feed_dict={b:[50, 100]}))"
   ]
  },
  {
   "cell_type": "code",
   "execution_count": 17,
   "metadata": {},
   "outputs": [
    {
     "name": "stdout",
     "output_type": "stream",
     "text": [
      "[ 0.3]\n",
      "[-0.3]\n",
      "[ 0.   0.3  0.6  0.9]\n"
     ]
    }
   ],
   "source": [
    "### Example 5\n",
    "\n",
    "W = tf.Variable([0.3], dtype=tf.float64)\n",
    "b = tf.Variable([-0.3], dtype=tf.float64)\n",
    "x = tf.placeholder(tf.float64)\n",
    "\n",
    "linear_model = W*x + b\n",
    "\n",
    "init = tf.global_variables_initializer()   ### initialize 필요\n",
    "\n",
    "sess.run(init)\n",
    "print(sess.run(W))\n",
    "print(sess.run(b))\n",
    "\n",
    "print(sess.run(linear_model, {x:[1, 2, 3, 4]}))   ### x일 때마다의 model값 출력"
   ]
  },
  {
   "cell_type": "code",
   "execution_count": 18,
   "metadata": {},
   "outputs": [],
   "source": [
    "import numpy as np"
   ]
  },
  {
   "cell_type": "code",
   "execution_count": 19,
   "metadata": {},
   "outputs": [
    {
     "name": "stdout",
     "output_type": "stream",
     "text": [
      "[ 0.   0.3  0.6  0.9]\n"
     ]
    }
   ],
   "source": [
    "X_train = np.array([1, 2, 3, 4])\n",
    "\n",
    "print(sess.run(linear_model, {x:X_train}))"
   ]
  },
  {
   "cell_type": "code",
   "execution_count": 20,
   "metadata": {},
   "outputs": [
    {
     "name": "stdout",
     "output_type": "stream",
     "text": [
      "[ 0.   0.3  0.6  0.9]\n"
     ]
    }
   ],
   "source": [
    "out = linear_model.eval(session=sess, feed_dict={x:X_train})\n",
    "print(out)"
   ]
  },
  {
   "cell_type": "code",
   "execution_count": 21,
   "metadata": {},
   "outputs": [
    {
     "name": "stdout",
     "output_type": "stream",
     "text": [
      "52.6666666667\n"
     ]
    }
   ],
   "source": [
    "### Exercise\n",
    "\n",
    "import tensorflow as tf\n",
    "sess = tf.Session()\n",
    "\n",
    "x = tf.placeholder(tf.int32)\n",
    "y = tf.placeholder(tf.int32)\n",
    "a = tf.Variable(2)\n",
    "b = tf.Variable(3)\n",
    "L = tf.Variable(0)\n",
    "N = tf.constant(3)\n",
    "\n",
    "L = tf.reduce_sum((a*x+b-y)**2)/N   ### y = ax+b의 error 계신\n",
    "\n",
    "init = tf.global_variables_initializer()   ### initialize 필요\n",
    "sess.run(init)\n",
    "\n",
    "\n",
    "print(sess.run(L, feed_dict={x:[1, 2, 3], y:[2, 0, -1]}))"
   ]
  },
  {
   "cell_type": "code",
   "execution_count": 22,
   "metadata": {},
   "outputs": [
    {
     "name": "stdout",
     "output_type": "stream",
     "text": [
      "110\n",
      "[120 130]\n"
     ]
    }
   ],
   "source": [
    "a = tf.Variable(100)\n",
    "b = tf.placeholder(tf.int32)\n",
    "v = tf.Variable(0)\n",
    "\n",
    "v = a+b\n",
    "\n",
    "init = tf.global_variables_initializer()\n",
    "sess.run(init)\n",
    "\n",
    "print(sess.run(v, {b:10}))\n",
    "print(sess.run(v, {b:[20, 30]}))"
   ]
  },
  {
   "cell_type": "code",
   "execution_count": 23,
   "metadata": {},
   "outputs": [
    {
     "name": "stdout",
     "output_type": "stream",
     "text": [
      "60\n",
      "[70 80]\n"
     ]
    }
   ],
   "source": [
    "fixA = tf.assign(a, 50)   ### a 를 50으로 변경\n",
    "sess.run(fixA)\n",
    "\n",
    "print(sess.run(v, {b:10}))\n",
    "print(sess.run(v, {b:[20, 30]}))"
   ]
  },
  {
   "cell_type": "code",
   "execution_count": 24,
   "metadata": {},
   "outputs": [
    {
     "name": "stdout",
     "output_type": "stream",
     "text": [
      "0.0\n",
      "0.0\n",
      "-0.9\n",
      "1.2\n",
      "0.215\n"
     ]
    }
   ],
   "source": [
    "### Exercise\n",
    "### W를 -0.9, b를 1.2로 변경한 후 x=[1, 2, 3, 4], y=[0, -1, -2, -3]값에 대하여 loss를 계산하여라.\n",
    "\n",
    "import tensorflow as tf\n",
    "sess = tf.Session()\n",
    "\n",
    "W = tf.Variable(0, dtype=tf.float64)   ### 임의의 초기값 0 설정\n",
    "b = tf.Variable(0, dtype=tf.float64)\n",
    "init = tf.global_variables_initializer()   ### initialize\n",
    "sess.run(init)\n",
    "\n",
    "print(sess.run(W))   ### 원래 값 0, 0 출력\n",
    "print(sess.run(b))\n",
    "\n",
    "fix_W = tf.assign(W, -0.9)   ### 값 변경\n",
    "fix_b = tf.assign(b, 1.2)\n",
    "sess.run(fix_W)\n",
    "sess.run(fix_b)\n",
    "\n",
    "print(sess.run(fix_W))   ### 변경해준 값\n",
    "print(sess.run(fix_b))\n",
    "\n",
    "x = tf.placeholder(tf.float64)\n",
    "y = tf.placeholder(tf.float64)\n",
    "fix_W = tf.Variable([-0.9], dtype=tf.float64)\n",
    "fix_b = tf.Variable([1.2], dtype=tf.float64)\n",
    "\n",
    "loss = tf.reduce_sum((fix_W*x+fix_b-y)**2)/4   ### y = ax+b의 error 계신\n",
    "\n",
    "init = tf.global_variables_initializer()   ### initialize 필요\n",
    "sess.run(init)\n",
    "\n",
    "\n",
    "print(sess.run(loss, feed_dict={x:[1, 2, 3, 4], y:[0, -1, -2, -3]}))   ### 출력"
   ]
  },
  {
   "cell_type": "code",
   "execution_count": 25,
   "metadata": {},
   "outputs": [],
   "source": [
    "import tensorflow as tf\n",
    "sess = tf.Session()"
   ]
  },
  {
   "cell_type": "code",
   "execution_count": 26,
   "metadata": {},
   "outputs": [
    {
     "name": "stdout",
     "output_type": "stream",
     "text": [
      "[ 0.   0.3  0.6  0.9]\n",
      "23.66\n"
     ]
    }
   ],
   "source": [
    "W = tf.Variable([0.3], dtype=tf.float64)\n",
    "b = tf.Variable([-0.3], dtype=tf.float64)\n",
    "x = tf.placeholder(tf.float64)\n",
    "\n",
    "y = tf.placeholder(tf.float64)\n",
    "\n",
    "linear_model = W*x+b\n",
    "squared_deltas = tf.square(linear_model-y)\n",
    "loss = tf.reduce_sum(squared_deltas)\n",
    "\n",
    "init = tf.global_variables_initializer()\n",
    "sess.run(init)\n",
    "\n",
    "print(sess.run(linear_model, {x:[1, 2, 3, 4], y:[0, -1, -2, -3]}))\n",
    "print(sess.run(loss, {x:[1, 2, 3, 4], y:[0, -1, -2, -3]}))"
   ]
  },
  {
   "cell_type": "code",
   "execution_count": null,
   "metadata": {},
   "outputs": [],
   "source": []
  }
 ],
 "metadata": {
  "kernelspec": {
   "display_name": "Python 3",
   "language": "python",
   "name": "python3"
  },
  "language_info": {
   "codemirror_mode": {
    "name": "ipython",
    "version": 3
   },
   "file_extension": ".py",
   "mimetype": "text/x-python",
   "name": "python",
   "nbconvert_exporter": "python",
   "pygments_lexer": "ipython3",
   "version": "3.6.5"
  }
 },
 "nbformat": 4,
 "nbformat_minor": 2
}
