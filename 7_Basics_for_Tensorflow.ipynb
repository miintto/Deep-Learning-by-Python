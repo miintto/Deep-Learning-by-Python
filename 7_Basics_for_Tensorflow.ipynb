{
 "cells": [
  {
   "cell_type": "markdown",
   "metadata": {},
   "source": [
    "# Basics for Tensorflow"
   ]
  },
  {
   "cell_type": "markdown",
   "metadata": {},
   "source": [
    "### Basic data type and commands"
   ]
  },
  {
   "cell_type": "code",
   "execution_count": null,
   "metadata": {},
   "outputs": [],
   "source": [
    "import tensorflow as tf"
   ]
  },
  {
   "cell_type": "code",
   "execution_count": null,
   "metadata": {},
   "outputs": [],
   "source": [
    "a = tf.constant(1234, dtype=tf.int32)   ### 상수저장\n",
    "b = tf.constant(5000)\n",
    "total = a+b\n",
    "print(a)\n",
    "print(b)\n",
    "print(total)   ### 이렇게 해서는 출력이 안됨..."
   ]
  },
  {
   "cell_type": "code",
   "execution_count": null,
   "metadata": {},
   "outputs": [],
   "source": [
    "sess = tf.Session()"
   ]
  },
  {
   "cell_type": "code",
   "execution_count": null,
   "metadata": {},
   "outputs": [],
   "source": [
    "print(sess.run(total))   ### 이런식으로 해야 출력이 됨\n",
    "print(sess.run([a, b]))"
   ]
  },
  {
   "cell_type": "code",
   "execution_count": null,
   "metadata": {},
   "outputs": [],
   "source": [
    "vec = tf.random_uniform(shape = (3,))\n",
    "out1 = vec+1\n",
    "out2 = vec+2\n",
    "print(sess.run(vec))\n",
    "print(sess.run(vec))   #결과값이 다르다,\n",
    "print(sess.run(out1))\n",
    "print(sess.run(out2))\n",
    "print(sess.run((out1, out2)))"
   ]
  },
  {
   "cell_type": "code",
   "execution_count": null,
   "metadata": {},
   "outputs": [],
   "source": [
    "import tensorflow as tf\n",
    "sess=tf.Session()\n",
    "\n",
    "a=tf.constant(321)\n",
    "b=tf.constant(4000)\n",
    "\n",
    "add_op = a+b\n",
    "\n",
    "res = sess.run(add_op)   #이런식으로 계산해야함\n",
    "print(res)\n",
    "print(add_op)   # 이러면 결과가 안뜸..."
   ]
  },
  {
   "cell_type": "code",
   "execution_count": null,
   "metadata": {},
   "outputs": [],
   "source": [
    "### Exercise\n",
    "### a=10, b=40인 constant일 때, c=(20a-3b)를 계산하는 코드\n",
    "\n",
    "import tensorflow as tf\n",
    "\n",
    "a = tf.constant(10)\n",
    "b = tf.constant(40)\n",
    "\n",
    "sess = tf.Session()\n",
    "print(sess.run(20*a-3*b))"
   ]
  },
  {
   "cell_type": "markdown",
   "metadata": {},
   "source": [
    "### Placeholder"
   ]
  },
  {
   "cell_type": "code",
   "execution_count": null,
   "metadata": {},
   "outputs": [],
   "source": [
    "a = tf.placeholder(tf.float32)\n",
    "b = tf.placeholder(tf.float32)\n",
    "adder_node = a+b"
   ]
  },
  {
   "cell_type": "code",
   "execution_count": null,
   "metadata": {},
   "outputs": [],
   "source": [
    "print(sess.run(adder_node, feed_dict={a:3, b:4.5}))\n",
    "print(sess.run(adder_node, feed_dict={a:[1,3], b:[2, 4]}))"
   ]
  },
  {
   "cell_type": "code",
   "execution_count": null,
   "metadata": {},
   "outputs": [],
   "source": [
    "add_and_triple = adder_node*3\n",
    "print(sess.run(add_and_triple, feed_dict={a:4, b:2}))\n",
    "\n",
    "c = sess.run(add_and_triple, feed_dict={a:3, b:4.5})\n",
    "print(c)"
   ]
  },
  {
   "cell_type": "code",
   "execution_count": null,
   "metadata": {},
   "outputs": [],
   "source": [
    "a=tf.placeholder(tf.int32,[3])   ### data size가 3으로 고정\n",
    "\n",
    "b=tf.constant(2)\n",
    "x2_op=a*b\n",
    "\n",
    "r1=sess.run(x2_op, feed_dict={a:[1, 2, 3]})\n",
    "r2=sess.run(x2_op, feed_dict={a:[4, 5, 6]})\n",
    "print(r1, r2)"
   ]
  },
  {
   "cell_type": "code",
   "execution_count": null,
   "metadata": {},
   "outputs": [],
   "source": [
    "a=tf.placeholder(tf.int32,[None])   ### data size 없음\n",
    "b=tf.constant(10)\n",
    "x10_op=a*b\n",
    "\n",
    "r1=sess.run(x10_op, feed_dict={a:[1, 2, 3, 4, 5]})\n",
    "r2=sess.run(x10_op, feed_dict={a:[10, 20]})\n",
    "print(r1, r2)"
   ]
  },
  {
   "cell_type": "code",
   "execution_count": null,
   "metadata": {},
   "outputs": [],
   "source": [
    "### Exercise \n",
    "\n",
    "a=tf.placeholder(tf.float64, [None])\n",
    "b=tf.placeholder(tf.float64, [1])\n",
    "\n",
    "c=a*b+2.5\n",
    "\n",
    "sess.run(c, feed_dict={a:[1, 3, 7, 9], b:[4]})"
   ]
  },
  {
   "cell_type": "markdown",
   "metadata": {},
   "source": [
    "### Variable"
   ]
  },
  {
   "cell_type": "code",
   "execution_count": null,
   "metadata": {},
   "outputs": [],
   "source": [
    "a = tf.constant(100)\n",
    "b = tf.constant(50)\n",
    "v = tf.Variable(0)\n",
    "\n",
    "v = a+b\n",
    "\n",
    "print(sess.run(v))\n",
    "print(sess.run(a))"
   ]
  },
  {
   "cell_type": "code",
   "execution_count": null,
   "metadata": {},
   "outputs": [],
   "source": [
    "a = tf.constant(100)\n",
    "b = tf.placeholder(tf.int32)\n",
    "v = tf.Variable(0)\n",
    "\n",
    "v = a+b\n",
    "out = sess.run(v, feed_dict={b:[50, 100]})\n",
    "\n",
    "print(out)"
   ]
  },
  {
   "cell_type": "code",
   "execution_count": 2,
   "metadata": {},
   "outputs": [
    {
     "name": "stdout",
     "output_type": "stream",
     "text": [
      "[150 200]\n"
     ]
    }
   ],
   "source": [
    "import tensorflow as tf\n",
    "\n",
    "a=tf.Variable(100)\n",
    "b=tf.placeholder(tf.int32)\n",
    "v=tf.Variable(0)\n",
    "\n",
    "v = a+b\n",
    "\n",
    "sess = tf.Session()\n",
    "\n",
    "init = tf.global_variables_initializer()   ### 이게 뭘까?\n",
    "sess.run(init)\n",
    "\n",
    "print(sess.run(v, feed_dict={b:[50, 100]}))"
   ]
  },
  {
   "cell_type": "code",
   "execution_count": 5,
   "metadata": {},
   "outputs": [
    {
     "name": "stdout",
     "output_type": "stream",
     "text": [
      "[ 0.3]\n",
      "[-0.3]\n"
     ]
    }
   ],
   "source": [
    "W = tf.Variable([0.3], dtype=tf.float64)\n",
    "b = tf.Variable([-0.3], dtype=tf.float64)\n",
    "x = tf.placeholder(tf.float64)\n",
    "\n",
    "linear_model = W*x+b\n",
    "\n",
    "init = tf.global_variables_initializer()\n",
    "\n",
    "sess.run(init)\n",
    "print(sess.run(W))\n",
    "print(sess.run(b))"
   ]
  },
  {
   "cell_type": "code",
   "execution_count": 6,
   "metadata": {},
   "outputs": [
    {
     "name": "stdout",
     "output_type": "stream",
     "text": [
      "[ 0.   0.3  0.6  0.9]\n"
     ]
    }
   ],
   "source": [
    "print(sess.run(linear_model, feed_dict={x:[1, 2, 3, 4]}))"
   ]
  },
  {
   "cell_type": "code",
   "execution_count": 9,
   "metadata": {},
   "outputs": [
    {
     "name": "stdout",
     "output_type": "stream",
     "text": [
      "[ 0.   0.3  0.6  0.9]\n"
     ]
    }
   ],
   "source": [
    "import numpy as np\n",
    "\n",
    "X_train = np.array([1, 2, 3, 4])\n",
    "\n",
    "print(sess.run(linear_model, feed_dict={x:X_train}))"
   ]
  },
  {
   "cell_type": "code",
   "execution_count": 11,
   "metadata": {},
   "outputs": [
    {
     "name": "stdout",
     "output_type": "stream",
     "text": [
      "[ 0.   0.3  0.6  0.9]\n"
     ]
    }
   ],
   "source": [
    "out = linear_model.eval(session=sess, feed_dict={x:X_train})\n",
    "print(out)"
   ]
  },
  {
   "cell_type": "code",
   "execution_count": null,
   "metadata": {},
   "outputs": [],
   "source": [
    "### Exercise\n"
   ]
  },
  {
   "cell_type": "code",
   "execution_count": 14,
   "metadata": {},
   "outputs": [
    {
     "name": "stdout",
     "output_type": "stream",
     "text": [
      "110\n",
      "[120 130]\n"
     ]
    }
   ],
   "source": [
    "a = tf.Variable(100)\n",
    "b = tf.placeholder(tf.int32)\n",
    "v = tf.Variable(0)\n",
    "\n",
    "v = a+b\n",
    "\n",
    "init = tf.global_variables_initializer()\n",
    "sess.run(init)\n",
    "\n",
    "print(sess.run(v, {b:10}))\n",
    "print(sess.run(v, {b:[20, 30]}))"
   ]
  },
  {
   "cell_type": "code",
   "execution_count": 15,
   "metadata": {},
   "outputs": [
    {
     "name": "stdout",
     "output_type": "stream",
     "text": [
      "60\n",
      "[70 80]\n"
     ]
    }
   ],
   "source": [
    "fixA = tf.assign(a, 50)\n",
    "sess.run(fixA)\n",
    "\n",
    "print(sess.run(v, {b:10}))\n",
    "print(sess.run(v, {b:[20, 30]}))"
   ]
  },
  {
   "cell_type": "code",
   "execution_count": null,
   "metadata": {},
   "outputs": [],
   "source": [
    "### Exercise\n"
   ]
  },
  {
   "cell_type": "code",
   "execution_count": 17,
   "metadata": {},
   "outputs": [
    {
     "name": "stdout",
     "output_type": "stream",
     "text": [
      "[ 0.   0.3  0.6  0.9]\n",
      "23.66\n"
     ]
    }
   ],
   "source": [
    "W = tf.Variable([0.3], dtype=tf.float64)\n",
    "b = tf.Variable([-0.3], dtype=tf.float64)\n",
    "x = tf.placeholder(tf.float64)\n",
    "\n",
    "y = tf.placeholder(tf.float64)\n",
    "\n",
    "linear_model = W*x+b\n",
    "squared_deltas = tf.square(linear_model-y)\n",
    "loss = tf.reduce_sum(squared_deltas)\n",
    "\n",
    "init = tf.global_variables_initializer()\n",
    "sess.run(init)\n",
    "\n",
    "print(sess.run(linear_model, {x:[1, 2, 3, 4], y:[0, -1, -2, -3]}))\n",
    "print(sess.run(loss, {x:[1, 2, 3, 4], y:[0, -1, -2, -3]}))"
   ]
  },
  {
   "cell_type": "code",
   "execution_count": null,
   "metadata": {},
   "outputs": [],
   "source": []
  }
 ],
 "metadata": {
  "kernelspec": {
   "display_name": "Python 3",
   "language": "python",
   "name": "python3"
  },
  "language_info": {
   "codemirror_mode": {
    "name": "ipython",
    "version": 3
   },
   "file_extension": ".py",
   "mimetype": "text/x-python",
   "name": "python",
   "nbconvert_exporter": "python",
   "pygments_lexer": "ipython3",
   "version": "3.6.5"
  }
 },
 "nbformat": 4,
 "nbformat_minor": 2
}
