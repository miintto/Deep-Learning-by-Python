{
 "cells": [
  {
   "cell_type": "markdown",
   "metadata": {},
   "source": [
    "# Keras"
   ]
  },
  {
   "cell_type": "code",
   "execution_count": 1,
   "metadata": {
    "scrolled": true
   },
   "outputs": [
    {
     "name": "stderr",
     "output_type": "stream",
     "text": [
      "Using TensorFlow backend.\n"
     ]
    }
   ],
   "source": [
    "import numpy as np\n",
    "\n",
    "from keras.models import Sequential\n",
    "from keras.layers import Dense, Activation\n",
    "from keras.optimizers import SGD"
   ]
  },
  {
   "cell_type": "markdown",
   "metadata": {},
   "source": [
    "### XOR"
   ]
  },
  {
   "cell_type": "code",
   "execution_count": 2,
   "metadata": {},
   "outputs": [],
   "source": [
    "X = np.array([[0, 0], [0, 1], [1, 0], [1, 1]])   ### data 입력 (x1, x2, t)\n",
    "Y = np.array([[0], [1], [1], [0]])"
   ]
  },
  {
   "cell_type": "code",
   "execution_count": 3,
   "metadata": {},
   "outputs": [],
   "source": [
    "### 모델을 이렇게 생성하기도 하고\n",
    "\n",
    "model = Sequential([Dense(input_dim=2, units=2), Activation('sigmoid')])   ### input, output"
   ]
  },
  {
   "cell_type": "code",
   "execution_count": 4,
   "metadata": {},
   "outputs": [],
   "source": [
    "### 이렇게 만들기도 한다. (여러 레이어를 추가하기에 편함.)\n",
    "\n",
    "model = Sequential()\n",
    "model.add(Dense(input_dim = 2, units = 7, activation='sigmoid'))   ### Input / Hidden Layer 1\n",
    "model.add(Dense(units = 11, activation='sigmoid'))   ### Hidden Layer 2\n",
    "model.add(Dense(units = 3, activation='sigmoid'))   ### Hidden Layer 3\n",
    "model.add(Dense(units = 1, activation='sigmoid'))   ### Output"
   ]
  },
  {
   "cell_type": "code",
   "execution_count": 5,
   "metadata": {
    "scrolled": true
   },
   "outputs": [
    {
     "name": "stdout",
     "output_type": "stream",
     "text": [
      "_________________________________________________________________\n",
      "Layer (type)                 Output Shape              Param #   \n",
      "=================================================================\n",
      "dense_2 (Dense)              (None, 7)                 21        \n",
      "_________________________________________________________________\n",
      "dense_3 (Dense)              (None, 11)                88        \n",
      "_________________________________________________________________\n",
      "dense_4 (Dense)              (None, 3)                 36        \n",
      "_________________________________________________________________\n",
      "dense_5 (Dense)              (None, 1)                 4         \n",
      "=================================================================\n",
      "Total params: 149\n",
      "Trainable params: 149\n",
      "Non-trainable params: 0\n",
      "_________________________________________________________________\n"
     ]
    }
   ],
   "source": [
    "model.summary()   ### 모델 summary"
   ]
  },
  {
   "cell_type": "code",
   "execution_count": 6,
   "metadata": {},
   "outputs": [],
   "source": [
    "### learning rate = 0.1 로 \n",
    "\n",
    "lr = 0.1\n",
    "model.compile(loss='binary_crossentropy', optimizer=SGD(lr))"
   ]
  },
  {
   "cell_type": "code",
   "execution_count": 7,
   "metadata": {
    "scrolled": true
   },
   "outputs": [
    {
     "name": "stdout",
     "output_type": "stream",
     "text": [
      "4/4 [==============================] - 0s 18ms/step\n",
      "4/4 [==============================] - 0s 2ms/step\n",
      "[[ True]\n",
      " [False]\n",
      " [False]\n",
      " [ True]]\n",
      "[[ 0.33527738]\n",
      " [ 0.33410767]\n",
      " [ 0.33398819]\n",
      " [ 0.33275375]]\n"
     ]
    }
   ],
   "source": [
    "classes = model.predict_classes(X, batch_size = 1)\n",
    "prob = model.predict_proba(X, batch_size = 1)\n",
    "\n",
    "print(Y==classes)\n",
    "print(prob)"
   ]
  },
  {
   "cell_type": "markdown",
   "metadata": {},
   "source": [
    "### Train"
   ]
  },
  {
   "cell_type": "code",
   "execution_count": 10,
   "metadata": {},
   "outputs": [
    {
     "data": {
      "text/plain": [
       "<keras.callbacks.History at 0x7fa5706cd080>"
      ]
     },
     "execution_count": 10,
     "metadata": {},
     "output_type": "execute_result"
    }
   ],
   "source": [
    "### batch size : 한번에 시행하는 표본의 갯수, 커질수록 계산량이 더 많아진다.\n",
    "### verbose : 한 epoch마다 출력여부\n",
    "\n",
    "model.fit(X, Y, epochs = 10000, batch_size = None, verbose = 0)"
   ]
  },
  {
   "cell_type": "code",
   "execution_count": 11,
   "metadata": {},
   "outputs": [
    {
     "name": "stdout",
     "output_type": "stream",
     "text": [
      "4/4 [==============================] - 0s 2ms/step\n",
      "4/4 [==============================] - 0s 1ms/step\n",
      "[[ True]\n",
      " [ True]\n",
      " [ True]\n",
      " [ True]]\n",
      "[[ 0.00166799]\n",
      " [ 0.99787843]\n",
      " [ 0.99807358]\n",
      " [ 0.00142981]]\n"
     ]
    }
   ],
   "source": [
    "classes = model.predict_classes(X, batch_size = 1)\n",
    "prob = model.predict_proba(X, batch_size = 1)\n",
    "\n",
    "print(Y==classes)\n",
    "print(prob)"
   ]
  },
  {
   "cell_type": "code",
   "execution_count": null,
   "metadata": {},
   "outputs": [],
   "source": []
  }
 ],
 "metadata": {
  "kernelspec": {
   "display_name": "Python 3",
   "language": "python",
   "name": "python3"
  },
  "language_info": {
   "codemirror_mode": {
    "name": "ipython",
    "version": 3
   },
   "file_extension": ".py",
   "mimetype": "text/x-python",
   "name": "python",
   "nbconvert_exporter": "python",
   "pygments_lexer": "ipython3",
   "version": "3.6.3"
  }
 },
 "nbformat": 4,
 "nbformat_minor": 2
}
