{
 "cells": [
  {
   "cell_type": "markdown",
   "metadata": {},
   "source": [
    "# Keras OR Gate"
   ]
  },
  {
   "cell_type": "code",
   "execution_count": 1,
   "metadata": {
    "scrolled": true
   },
   "outputs": [
    {
     "name": "stderr",
     "output_type": "stream",
     "text": [
      "Using TensorFlow backend.\n"
     ]
    }
   ],
   "source": [
    "import numpy as np\n",
    "\n",
    "from keras.models import Sequential\n",
    "from keras.layers import Dense, Activation\n",
    "from keras.optimizers import SGD"
   ]
  },
  {
   "cell_type": "markdown",
   "metadata": {},
   "source": [
    "### XOR"
   ]
  },
  {
   "cell_type": "code",
   "execution_count": 2,
   "metadata": {},
   "outputs": [],
   "source": [
    "X = np.array([[0, 0], [0, 1], [1, 0], [1, 1]])   ### data 입력 (x1, x2, t)\n",
    "Y = np.array([[0], [1], [1], [0]])"
   ]
  },
  {
   "cell_type": "code",
   "execution_count": 3,
   "metadata": {},
   "outputs": [],
   "source": [
    "model = Sequential([Dense(input_dim=2, units=2), Activation('sigmoid')])   ### input, output"
   ]
  },
  {
   "cell_type": "code",
   "execution_count": 4,
   "metadata": {},
   "outputs": [],
   "source": [
    "model = Sequential()\n",
    "model.add(Dense(input_dim=2, units=2, activation='sigmoid'))   ### Hidden Layer 1\n",
    "model.add(Dense(units = 1, activation='sigmoid'))   ### Output"
   ]
  },
  {
   "cell_type": "code",
   "execution_count": 5,
   "metadata": {},
   "outputs": [
    {
     "name": "stdout",
     "output_type": "stream",
     "text": [
      "_________________________________________________________________\n",
      "Layer (type)                 Output Shape              Param #   \n",
      "=================================================================\n",
      "dense_2 (Dense)              (None, 2)                 6         \n",
      "_________________________________________________________________\n",
      "dense_3 (Dense)              (None, 1)                 3         \n",
      "=================================================================\n",
      "Total params: 9\n",
      "Trainable params: 9\n",
      "Non-trainable params: 0\n",
      "_________________________________________________________________\n"
     ]
    }
   ],
   "source": [
    "model.summary()   ### 모델 summary"
   ]
  },
  {
   "cell_type": "code",
   "execution_count": 6,
   "metadata": {},
   "outputs": [],
   "source": [
    "### learning rate = 0.1 로 \n",
    "\n",
    "lr=0.1\n",
    "model.compile(loss='binary_crossentropy', optimizer=SGD(lr))"
   ]
  },
  {
   "cell_type": "code",
   "execution_count": 7,
   "metadata": {},
   "outputs": [
    {
     "name": "stdout",
     "output_type": "stream",
     "text": [
      "4/4 [==============================] - 0s 16ms/step\n",
      "4/4 [==============================] - 0s 2ms/step\n",
      "[[False]\n",
      " [ True]\n",
      " [ True]\n",
      " [False]]\n",
      "[[ 0.71428376]\n",
      " [ 0.69642192]\n",
      " [ 0.77784812]\n",
      " [ 0.75926501]]\n"
     ]
    }
   ],
   "source": [
    "classes = model.predict_classes(X, batch_size = 1)\n",
    "prob = model.predict_proba(X, batch_size = 1)\n",
    "\n",
    "print(Y==classes)\n",
    "print(prob)"
   ]
  },
  {
   "cell_type": "code",
   "execution_count": 13,
   "metadata": {},
   "outputs": [
    {
     "data": {
      "text/plain": [
       "<keras.callbacks.History at 0x7ff7306b6cc0>"
      ]
     },
     "execution_count": 13,
     "metadata": {},
     "output_type": "execute_result"
    }
   ],
   "source": [
    "### 학습\n",
    "\n",
    "### batch size : 한번에 시행하는 표본의 갯수, 커질수록 계산량이 더 많아진다.\n",
    "### verbose : 한 epoch마다 출력?\n",
    "\n",
    "model.fit(X, Y, epochs = 100, batch_size = None, verbose = 0)"
   ]
  },
  {
   "cell_type": "code",
   "execution_count": 14,
   "metadata": {},
   "outputs": [
    {
     "name": "stdout",
     "output_type": "stream",
     "text": [
      "4/4 [==============================] - 0s 2ms/step\n",
      "4/4 [==============================] - 0s 2ms/step\n",
      "[[ True]\n",
      " [False]\n",
      " [ True]\n",
      " [False]]\n",
      "[[ 0.43364963]\n",
      " [ 0.473708  ]\n",
      " [ 0.60493386]\n",
      " [ 0.53231251]]\n"
     ]
    }
   ],
   "source": [
    "classes = model.predict_classes(X, batch_size = 1)\n",
    "prob = model.predict_proba(X, batch_size = 1)\n",
    "\n",
    "print(Y==classes)\n",
    "print(prob)"
   ]
  },
  {
   "cell_type": "code",
   "execution_count": null,
   "metadata": {},
   "outputs": [],
   "source": []
  }
 ],
 "metadata": {
  "kernelspec": {
   "display_name": "Python 3",
   "language": "python",
   "name": "python3"
  },
  "language_info": {
   "codemirror_mode": {
    "name": "ipython",
    "version": 3
   },
   "file_extension": ".py",
   "mimetype": "text/x-python",
   "name": "python",
   "nbconvert_exporter": "python",
   "pygments_lexer": "ipython3",
   "version": "3.6.5"
  }
 },
 "nbformat": 4,
 "nbformat_minor": 2
}
