{
 "cells": [
  {
   "cell_type": "markdown",
   "metadata": {},
   "source": [
    "# Tensorflow AND 연산"
   ]
  },
  {
   "cell_type": "code",
   "execution_count": 3,
   "metadata": {},
   "outputs": [],
   "source": [
    "import tensorflow as tf ### 기본 라이브러리 불러오기\n",
    "import numpy as np\n",
    "sess = tf.Session()"
   ]
  },
  {
   "cell_type": "code",
   "execution_count": 5,
   "metadata": {},
   "outputs": [],
   "source": [
    "### y = wx+b\n",
    "\n",
    "x = tf.placeholder(tf.float32, shape=[None, 2])\n",
    "t = tf.placeholder(tf.float32, shape=[None, 1])\n",
    "\n",
    "w = tf.Variable(tf.truncated_normal([2, 1]))\n",
    "b = tf.Variable(tf.zeros([1]))\n",
    "\n",
    "y = tf.nn.sigmoid(tf.matmul(x, w)+b)   ### 연산방법 정의 x*w + b"
   ]
  },
  {
   "cell_type": "code",
   "execution_count": 6,
   "metadata": {},
   "outputs": [],
   "source": [
    "cross_ent = -tf.reduce_mean(t*tf.log(y)+(1-t)*tf.log(1-y))   ### Error function"
   ]
  },
  {
   "cell_type": "code",
   "execution_count": 7,
   "metadata": {},
   "outputs": [],
   "source": [
    "optimizer = tf.train.GradientDescentOptimizer(0.1)\n",
    "train_step = optimizer.minimize(cross_ent)   ### grd dcnt 를 최소화"
   ]
  },
  {
   "cell_type": "code",
   "execution_count": 8,
   "metadata": {},
   "outputs": [],
   "source": [
    "correct_pred = tf.equal(tf.to_float(tf.greater(y, 0.5)), t)   ### y와 0.5의 값 비교 ( T, F 반환 )"
   ]
  },
  {
   "cell_type": "markdown",
   "metadata": {},
   "source": [
    "### 연산 (한 바퀴 돌림)"
   ]
  },
  {
   "cell_type": "code",
   "execution_count": 9,
   "metadata": {},
   "outputs": [],
   "source": [
    "X = np.array([[0, 0], [0, 1], [1, 0], [1, 1]])   ### data 입력 (x1, x2, t)\n",
    "Y = np.array([[0], [0], [0], [1]])\n",
    "\n",
    "init = tf.global_variables_initializer()   ### initialize 필요\n",
    "sess.run(init)"
   ]
  },
  {
   "cell_type": "code",
   "execution_count": 10,
   "metadata": {},
   "outputs": [
    {
     "name": "stdout",
     "output_type": "stream",
     "text": [
      "[[ 0.5       ]\n",
      " [ 0.44472229]\n",
      " [ 0.7078073 ]\n",
      " [ 0.65987563]]\n"
     ]
    }
   ],
   "source": [
    "prob = y.eval(session=sess, feed_dict={x:X})   ### y값 계산\n",
    "print(prob)"
   ]
  },
  {
   "cell_type": "code",
   "execution_count": 11,
   "metadata": {},
   "outputs": [
    {
     "name": "stdout",
     "output_type": "stream",
     "text": [
      "[[ True]\n",
      " [ True]\n",
      " [False]\n",
      " [False]]\n"
     ]
    }
   ],
   "source": [
    "classified = correct_pred.eval(session=sess, feed_dict={x:X, t:Y})   ### 결과랑 비교해서 맞는지 판단\n",
    "print(classified)"
   ]
  },
  {
   "cell_type": "code",
   "execution_count": 12,
   "metadata": {
    "scrolled": true
   },
   "outputs": [
    {
     "name": "stdout",
     "output_type": "stream",
     "text": [
      "[[ 0.88475823]\n",
      " [-0.22201839]]\n",
      "[ 0.]\n"
     ]
    }
   ],
   "source": [
    "print(sess.run(w))   ### w, b 값 계산\n",
    "print(sess.run(b))"
   ]
  },
  {
   "cell_type": "markdown",
   "metadata": {},
   "source": [
    "### 학습"
   ]
  },
  {
   "cell_type": "code",
   "execution_count": 13,
   "metadata": {},
   "outputs": [
    {
     "name": "stdout",
     "output_type": "stream",
     "text": [
      "epoch = 0\n",
      "epoch = 100\n",
      "epoch = 200\n",
      "epoch = 300\n",
      "epoch = 400\n",
      "epoch = 500\n",
      "epoch = 600\n",
      "epoch = 700\n",
      "epoch = 800\n",
      "epoch = 900\n"
     ]
    }
   ],
   "source": [
    "### 옵티를 minimize\n",
    "\n",
    "for epoch in range(1000):   ### 1000번 계산한다.\n",
    "    sess.run(train_step, feed_dict={x:X, t:Y})\n",
    "    if epoch % 100 == 0:   ### 이건 그냥 잘 돌아가는지 판단하려고...\n",
    "        print(\"epoch =\", epoch)"
   ]
  },
  {
   "cell_type": "code",
   "execution_count": 14,
   "metadata": {},
   "outputs": [
    {
     "name": "stdout",
     "output_type": "stream",
     "text": [
      "[[ True]\n",
      " [ True]\n",
      " [ True]\n",
      " [ True]]\n"
     ]
    }
   ],
   "source": [
    "classified = correct_pred.eval(session=sess, feed_dict={x:X, t:Y})   ### 제대로 분류되는지 판단\n",
    "print(classified)"
   ]
  },
  {
   "cell_type": "code",
   "execution_count": 15,
   "metadata": {},
   "outputs": [
    {
     "name": "stdout",
     "output_type": "stream",
     "text": [
      "[[ 0.01986753]\n",
      " [ 0.00482403]\n",
      " [ 0.00818679]\n",
      " [ 0.00197006]]\n"
     ]
    }
   ],
   "source": [
    "prob = y.eval(session=sess, feed_dict={x:X})\n",
    "print(prob)"
   ]
  },
  {
   "cell_type": "code",
   "execution_count": 16,
   "metadata": {},
   "outputs": [
    {
     "name": "stdout",
     "output_type": "stream",
     "text": [
      "[[-0.89841205]\n",
      " [-1.43070841]]\n",
      "[-3.89860082]\n"
     ]
    }
   ],
   "source": [
    "print(sess.run(w))   ### 값 출력\n",
    "print(sess.run(b))"
   ]
  },
  {
   "cell_type": "code",
   "execution_count": 17,
   "metadata": {},
   "outputs": [],
   "source": [
    "### linear 이기 때문에 XOR은 잘 나오지 않는다."
   ]
  },
  {
   "cell_type": "code",
   "execution_count": null,
   "metadata": {},
   "outputs": [],
   "source": []
  }
 ],
 "metadata": {
  "kernelspec": {
   "display_name": "Python 3",
   "language": "python",
   "name": "python3"
  },
  "language_info": {
   "codemirror_mode": {
    "name": "ipython",
    "version": 3
   },
   "file_extension": ".py",
   "mimetype": "text/x-python",
   "name": "python",
   "nbconvert_exporter": "python",
   "pygments_lexer": "ipython3",
   "version": "3.6.5"
  }
 },
 "nbformat": 4,
 "nbformat_minor": 2
}
