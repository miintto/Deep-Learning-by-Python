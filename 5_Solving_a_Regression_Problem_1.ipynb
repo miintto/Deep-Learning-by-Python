{
 "cells": [
  {
   "cell_type": "markdown",
   "metadata": {},
   "source": [
    "# Solving a Regression Problem (1)"
   ]
  },
  {
   "cell_type": "code",
   "execution_count": 1,
   "metadata": {},
   "outputs": [],
   "source": [
    "import numpy as np\n",
    "import matplotlib.pyplot as plt\n",
    "\n",
    "from sklearn.preprocessing import PolynomialFeatures   ### 라이브러리 불러오기\n",
    "from sklearn.linear_model import LinearRegression"
   ]
  },
  {
   "cell_type": "markdown",
   "metadata": {},
   "source": [
    "### Data Example (one feature)"
   ]
  },
  {
   "cell_type": "code",
   "execution_count": 2,
   "metadata": {},
   "outputs": [],
   "source": [
    "dat = np.loadtxt(fname = 'regData1.txt', delimiter = ',')   ### 데이터 불러오기 (40, 2)"
   ]
  },
  {
   "cell_type": "code",
   "execution_count": 3,
   "metadata": {
    "scrolled": true
   },
   "outputs": [
    {
     "name": "stdout",
     "output_type": "stream",
     "text": [
      "(40, 2)\n",
      "40\n"
     ]
    }
   ],
   "source": [
    "n_sample = dat.shape[0]   ### 데이터 길이 추출\n",
    "\n",
    "print(dat.shape)   ### 형태\n",
    "print(n_sample)   ### 길이"
   ]
  },
  {
   "cell_type": "code",
   "execution_count": 4,
   "metadata": {},
   "outputs": [
    {
     "name": "stdout",
     "output_type": "stream",
     "text": [
      "[22 20 25  4 10 15 28 11 18 29 27 35 37  2 39 30 34 16 36  8 13  5 17 14 33\n",
      "  7 32  1 26 12 31 24  6 23 21 19  9 38  3  0]\n",
      "10\n"
     ]
    }
   ],
   "source": [
    "### 데이터셋에서 1/4은 Test Set으로, 나머지는 Tranin Set으로 나누어 준다.\n",
    "\n",
    "np.random.seed(0)\n",
    "rindex = np.random.permutation(n_sample)   ### 0~39까지랜덤 수 추출\n",
    "print(rindex)\n",
    "\n",
    "ncut = int(n_sample/4)   ### 40개의 1/4인 10개 계산  \n",
    "print(ncut)\n",
    "\n",
    "X_train = dat[rindex[: -ncut], 0].reshape(-1, 1)   ### Train, Test 분리\n",
    "Y_train = dat[rindex[: -ncut], 1].reshape(-1, 1)   ### reshape()에서 -1은 나머지 숫자에 맞춰서 자동설정\n",
    "X_test = dat[rindex[-ncut:], 0].reshape(-1, 1)\n",
    "Y_test = dat[rindex[-ncut:], 1].reshape(-1, 1)"
   ]
  },
  {
   "cell_type": "code",
   "execution_count": 5,
   "metadata": {
    "scrolled": false
   },
   "outputs": [
    {
     "data": {
      "image/png": "[encoded data removed]",
      "text/plain": [
       "<Figure size 432x288 with 1 Axes>"
      ]
     },
     "metadata": {},
     "output_type": "display_data"
    }
   ],
   "source": [
    "### 그래프 출력\n",
    "\n",
    "plt.xlim((0, 1))\n",
    "plt.ylim((-1.5, 1.5))\n",
    "plt.plot(X_train, Y_train, 'bo', label='Train')\n",
    "plt.plot(X_test, Y_test, 'rs', label='Test')\n",
    "plt.title('Train data and Text data')\n",
    "plt.xlabel('x')\n",
    "plt.ylabel('y')\n",
    "_=plt.legend(loc='best')"
   ]
  },
  {
   "cell_type": "markdown",
   "metadata": {},
   "source": [
    "### Linear Regression (y = ax+b)"
   ]
  },
  {
   "cell_type": "code",
   "execution_count": 6,
   "metadata": {},
   "outputs": [],
   "source": [
    "linReg = LinearRegression()"
   ]
  },
  {
   "cell_type": "code",
   "execution_count": 7,
   "metadata": {},
   "outputs": [
    {
     "name": "stdout",
     "output_type": "stream",
     "text": [
      "[[-1.41535017]]\n"
     ]
    }
   ],
   "source": [
    "linReg.fit(X_train, Y_train)    ### 이때 x, y 변수가 반드시 shape(-1, 1) 형태여야 함 \n",
    "print(linReg.coef_)   ### 기울기 값 충전"
   ]
  },
  {
   "cell_type": "code",
   "execution_count": 8,
   "metadata": {},
   "outputs": [
    {
     "name": "stdout",
     "output_type": "stream",
     "text": [
      "[[-1.41535017]] [[ 0.3527202]]\n"
     ]
    }
   ],
   "source": [
    "xm = np.mean(X_train)\n",
    "ym = np.mean(Y_train)\n",
    "a = linReg.coef_\n",
    "b = ym-a*xm\n",
    "print(a, b)   ### 모델 : y = ax+b에서 a, b값 출력"
   ]
  },
  {
   "cell_type": "code",
   "execution_count": 9,
   "metadata": {},
   "outputs": [
    {
     "name": "stdout",
     "output_type": "stream",
     "text": [
      "0.227489566313\n"
     ]
    }
   ],
   "source": [
    "Y_pred = linReg.predict(X_train)   ### 모델에 적합한 예측값 계산\n",
    "linTrainError = np.mean((Y_pred - Y_train)**2)   ### Error 계산\n",
    "print(linTrainError)"
   ]
  },
  {
   "cell_type": "code",
   "execution_count": 10,
   "metadata": {},
   "outputs": [
    {
     "name": "stdout",
     "output_type": "stream",
     "text": [
      "0.273265172457\n"
     ]
    }
   ],
   "source": [
    "Y_pred = linReg.predict(X_test)\n",
    "linTestError = np.mean((Y_pred - Y_test)**2)\n",
    "print(linTestError)"
   ]
  },
  {
   "cell_type": "code",
   "execution_count": 11,
   "metadata": {},
   "outputs": [],
   "source": [
    "xval = np.linspace(0, 1, 101).reshape(-1,1)\n",
    "yval = linReg.predict(xval).reshape(-1,1)"
   ]
  },
  {
   "cell_type": "code",
   "execution_count": 12,
   "metadata": {},
   "outputs": [
    {
     "data": {
      "image/png": "[encoded data removed]",
      "text/plain": [
       "<Figure size 432x288 with 1 Axes>"
      ]
     },
     "metadata": {},
     "output_type": "display_data"
    }
   ],
   "source": [
    "plt.xlim((0, 1))\n",
    "plt.ylim((-1.5, 1.5))\n",
    "plt.plot(xval, yval, label='Linear Model')\n",
    "plt.plot(X_train, Y_train, 'bo', label='Train')\n",
    "plt.legend(loc='best')\n",
    "_=plt.title('Digree {} \\n TestErr={:.2e}'.format(1, linTestError))"
   ]
  },
  {
   "cell_type": "markdown",
   "metadata": {},
   "source": [
    "### Quadratic Regression (y = w₁x+w₂x²+b)"
   ]
  },
  {
   "cell_type": "code",
   "execution_count": 13,
   "metadata": {},
   "outputs": [
    {
     "name": "stdout",
     "output_type": "stream",
     "text": [
      "(30, 2) (10, 2)\n"
     ]
    }
   ],
   "source": [
    "quadPoly = PolynomialFeatures(degree=2, include_bias=False)   ### 제곱항 추가\n",
    "X_train_Poly2 = quadPoly.fit_transform(X_train)\n",
    "X_test_Poly2 = quadPoly.fit_transform(X_test)\n",
    "print(X_train_Poly2.shape, X_test_Poly2.shape)"
   ]
  },
  {
   "cell_type": "code",
   "execution_count": 14,
   "metadata": {},
   "outputs": [],
   "source": [
    "quadReg = LinearRegression()"
   ]
  },
  {
   "cell_type": "code",
   "execution_count": 15,
   "metadata": {},
   "outputs": [
    {
     "name": "stdout",
     "output_type": "stream",
     "text": [
      "[[-7.36889687  5.69101484]]\n"
     ]
    }
   ],
   "source": [
    "quadReg.fit(X_train_Poly2, Y_train)\n",
    "print(quadReg.coef_)   ### w 출력"
   ]
  },
  {
   "cell_type": "code",
   "execution_count": 16,
   "metadata": {},
   "outputs": [
    {
     "name": "stdout",
     "output_type": "stream",
     "text": [
      "0.0319403926666\n",
      "0.0470066996656\n"
     ]
    }
   ],
   "source": [
    "Y_pred = quadReg.predict(X_train_Poly2)\n",
    "quadTrainError = np.mean((Y_pred-Y_train)**2)\n",
    "print(quadTrainError)\n",
    "\n",
    "Y_pred = quadReg.predict(X_test_Poly2)\n",
    "quadTestError = np.mean((Y_pred - Y_test)**2)\n",
    "print(quadTestError)"
   ]
  },
  {
   "cell_type": "code",
   "execution_count": 17,
   "metadata": {},
   "outputs": [
    {
     "name": "stdout",
     "output_type": "stream",
     "text": [
      "[-7.36889687] [ 5.69101484] [ 1.48496342]\n"
     ]
    }
   ],
   "source": [
    "w = quadReg.coef_.T.copy()\n",
    "Xm = np.mean(X_train_Poly2, axis=0).reshape(-1,1)\n",
    "Ym = np.mean(Y_train)\n",
    "\n",
    "w1 = w[0]\n",
    "w2 = w[1]\n",
    "b = Ym-w[0]*Xm[0]-w[1]*Xm[1]\n",
    "\n",
    "print(w1, w2, b)"
   ]
  },
  {
   "cell_type": "code",
   "execution_count": 18,
   "metadata": {},
   "outputs": [],
   "source": [
    "xval = np.linspace(0, 1, 101).reshape(-1,1)\n",
    "xval_Poly2 = quadPoly.fit_transform(xval)\n",
    "yval = quadReg.predict(xval_Poly2).reshape(-1,1)"
   ]
  },
  {
   "cell_type": "code",
   "execution_count": 19,
   "metadata": {},
   "outputs": [
    {
     "data": {
      "image/png": "[encoded data removed]",
      "text/plain": [
       "<Figure size 432x288 with 1 Axes>"
      ]
     },
     "metadata": {},
     "output_type": "display_data"
    }
   ],
   "source": [
    "plt.xlim((0, 1))\n",
    "plt.ylim((-1.5, 1.5))\n",
    "plt.plot(xval,yval,label=\"Quadratic Model\")\n",
    "plt.plot(X_train, Y_train, 'bo', label=\"Train Data\")\n",
    "plt.plot(X_test, Y_test, 'rs', label=\"Test Data\")\n",
    "plt.legend(loc=\"best\")\n",
    "_ = plt.title(\"Degree {}\\nTestErr = {:.2e}\".format(2, quadTestError))"
   ]
  },
  {
   "cell_type": "code",
   "execution_count": null,
   "metadata": {},
   "outputs": [],
   "source": []
  }
 ],
 "metadata": {
  "kernelspec": {
   "display_name": "Python 3",
   "language": "python",
   "name": "python3"
  },
  "language_info": {
   "codemirror_mode": {
    "name": "ipython",
    "version": 3
   },
   "file_extension": ".py",
   "mimetype": "text/x-python",
   "name": "python",
   "nbconvert_exporter": "python",
   "pygments_lexer": "ipython3",
   "version": "3.6.5"
  }
 },
 "nbformat": 4,
 "nbformat_minor": 2
}
